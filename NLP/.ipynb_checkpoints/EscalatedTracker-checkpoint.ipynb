{
 "cells": [
  {
   "cell_type": "code",
   "execution_count": 20,
   "id": "e29fb857",
   "metadata": {},
   "outputs": [],
   "source": [
    "import requests,urllib,math\n",
    "import re\n",
    "from urllib.parse import urlparse, parse_qs\n",
    "from itertools import zip_longest\n",
    "from datetime import datetime\n",
    "import time as t\n",
    "\n",
    "time = datetime.fromtimestamp\n",
    "\n",
    "import sqlite3,requests\n",
    "from bs4 import BeautifulSoup\n",
    "headers = {\n",
    "        'User-Agent': \"Mozilla/5.0 (Windows NT 10.0; Win64; x64) AppleWebKit/537.36 (KHTML, like Gecko) Chrome/96.0.4664.45 Safari/537.36\"\n",
    "    }\n",
    "login_data = {\n",
    "        'do': \"scplogin\",\n",
    "        'userid': \"sandeep.kumar@idrive.com\",\n",
    "        'passwd': \"\",\n",
    "        'submit': ''\n",
    "        }\n",
    "\n",
    "queryURL ='https://ticket.idrive.com/scp/tickets.php?sort=date&dir=0&a=search&search-type=&query='\n",
    "\n",
    "exclude = ['India Billing Support','India Support','Indiasupport Supervisors','Indiasupport SPAM',\\\n",
    "           'IndiaSupport Crisis','IDrive Support','IBackup Support','IndiaSupport Review',\\\n",
    "           'RemotePC Support','Supervisors','US Support','US Development','Sales',\\\n",
    "           'BMR Support','BMR Critcal','Infra Maintenance','BMR DevOps','Finance','BizDev',\\\n",
    "           'Returns','Dev','Spam','Support','Artificial Intelligence','Design','Office IT','GDPR',\\\n",
    "           '— Select —','Express','IndiaSupport 360'\n",
    "          ]\n",
    "exclude = set(exclude)\n",
    "selector1 = \".thread-entry.note .header b\"\n",
    "selector2 = \".thread-entry.note .header time\"\n",
    "note_body = \".thread-entry.note .thread-body\"\n",
    "selector4 = \".thread-entry.response .header b\"\n",
    "selector5 = \".thread-entry.response .header time\"\n",
    "selector3 = \".thread-event.action .faded.description:has(>b:first-child):has(>time):has(>b)\"\n",
    "selector7 = \".thread-entry.message .header time\"\n",
    "selector6 = \".thread-entry.message .header b\"\n",
    "thread_id = \"#thread-items > :nth-child(1)\"\n",
    "\n",
    "depart_head_selector = \"div#content > :nth-child(4) >:nth-child(1) >:nth-child(1) >:nth-child(1) >:nth-child(1) >:nth-child(1) >:nth-child(3) >:nth-child(1)\"\n",
    "depart_name_selector = \"div#content > :nth-child(4) >:nth-child(1) >:nth-child(1) >:nth-child(1) >:nth-child(1) >:nth-child(1) >:nth-child(3) >:nth-child(2)\"\n",
    "\n",
    "assigned_agent_selector = \"div#content > :nth-child(6) >:nth-child(1) >:nth-child(1) >:nth-child(1) >:nth-child(1) >:nth-child(1) >:nth-child(1) >:nth-child(2)\"\n",
    "\n",
    "def ticket_session(name,secret):\n",
    "    global headers\n",
    "    with requests.Session() as s:\n",
    "        url = \"https://ticket.idrive.com/scp/login.php\"\n",
    "        try:\n",
    "            r = s.get(url,headers=headers)\n",
    "            if r.status_code == 403:\n",
    "                return 403 # unauthorized\n",
    "            else:\n",
    "                return build_header(r,s,url,name,secret)  \n",
    "        except requests.exceptions.HTTPError as errh:\n",
    "                return (request_errors[0],errh)\n",
    "        except requests.exceptions.ConnectionError as errc:\n",
    "                return (request_errors[1],errc)\n",
    "        except requests.exceptions.Timeout as errt:\n",
    "                return (request_errors[2],errt)\n",
    "        except requests.exceptions.RequestException as err:\n",
    "                return (request_errors[3],err)\n",
    "            \n",
    "def build_header(r,s,url,username,password):\n",
    "                global login_data\n",
    "                try:\n",
    "                    soup = BeautifulSoup(r.content,'html5lib')\n",
    "                    login_data['__CSRFToken__'] = soup.find('input',attrs={'name':'__CSRFToken__'})['value']\n",
    "                    login_data['userid']= username\n",
    "                    login_data['passwd']= password\n",
    "                    r = s.post(url,data=login_data,headers=headers)\n",
    "                    if r.status_code == 200:\n",
    "                        return s\n",
    "                    else:\n",
    "                    \n",
    "                        return 422 # login failed\n",
    "                except Exception as e:\n",
    "                    return ('DB Exception-2',e)"
   ]
  },
  {
   "cell_type": "code",
   "execution_count": 2,
   "id": "5c6b94ce",
   "metadata": {},
   "outputs": [],
   "source": [
    "def search_query(s,ticketURL=None,searchQuery=None):\n",
    "    try:\n",
    "        if searchQuery is not None:\n",
    "            query = '\\\"{}\\\"'.format(urllib.parse.quote_plus(searchQuery.strip()))\n",
    "            url = queryURL + query\n",
    "        else:\n",
    "            url = ticketURL\n",
    "        r  = s.get(url,headers=headers)\n",
    "        return r\n",
    "    except requests.exceptions.HTTPError as errh:\n",
    "                return 'error-http'\n",
    "    except requests.exceptions.ConnectionError as errc:\n",
    "                return 'error-connection'\n",
    "    except requests.exceptions.Timeout as errt:\n",
    "                return 'error-timeout'\n",
    "    except requests.exceptions.RequestException as err:\n",
    "                print(err)\n",
    "                return 'error-requestionException'\n",
    "    except Exception as e:  \n",
    "        return e"
   ]
  },
  {
   "cell_type": "code",
   "execution_count": 3,
   "id": "4bd304bc",
   "metadata": {},
   "outputs": [],
   "source": [
    "session = ticket_session('sandeep.kumar@idrive.com','sandy86kumar')\n",
    "html = search_query(session,ticketURL='https://ticket.idrive.com/scp/tickets.php?id=1732541')\n",
    "soup = BeautifulSoup(html.content,'html5lib')\n",
    "# print(type(soup))\n",
    "# soup.select(assigned_agent_selector)[0].get_text().split(\"Support /\")[-1].strip()"
   ]
  },
  {
   "cell_type": "code",
   "execution_count": 4,
   "id": "2391664a",
   "metadata": {},
   "outputs": [
    {
     "data": {
      "text/plain": [
       "<!DOCTYPE html>\n",
       "<html lang=\"en\" xml:lang=\"en\" xmlns=\"http://www.w3.org/1999/xhtml\"><head>\n",
       "    <meta content=\"text/html; charset=utf-8\" http-equiv=\"content-type\"/>\n",
       "    <meta content=\"7200\" http-equiv=\"refresh\"/>\n",
       "    <title>Ticketing :: Agent Login</title>\n",
       "    <link href=\"css/login.css\" rel=\"stylesheet\" type=\"text/css\"/>\n",
       "    <link href=\"/css/font-awesome.min.css\" rel=\"stylesheet\" type=\"text/css\"/>\n",
       "    <link href=\"/css/idrive.css\" rel=\"stylesheet\" type=\"text/css\"/>\n",
       "    <meta content=\"noindex\" name=\"robots\"/>\n",
       "    <meta content=\"no-cache\" http-equiv=\"cache-control\"/>\n",
       "    <meta content=\"no-cache\" http-equiv=\"pragma\"/>\n",
       "    <meta content=\"width=device-width, initial-scale=1\" name=\"viewport\"/>\n",
       "    <link href=\"/images/idrive-favicon-32x32.png\" rel=\"icon\" sizes=\"32x32\" type=\"image/png\"/>\n",
       "    <link href=\"/images/idrive-favicon-16x16.png\" rel=\"icon\" sizes=\"16x16\" type=\"image/png\"/>\n",
       "    <script src=\"/js/jquery-3.7.0.min.js\" type=\"text/javascript\"></script>\n",
       "    <script type=\"text/javascript\">\n",
       "        $(document).ready(function() {\n",
       "            $(\"input:not(.dp):visible:enabled:first\").focus();\n",
       "         });\n",
       "    </script>\n",
       "</head>\n",
       "<body id=\"loginBody\">\n",
       "\n",
       "<div id=\"brickwall\"></div>\n",
       "<div id=\"loginBox\">\n",
       "    <div id=\"blur\">\n",
       "        <div id=\"background\"></div>\n",
       "    </div>\n",
       "    <h1 id=\"logo\"><a href=\"index.php\">\n",
       "        <span class=\"valign-helper\"></span>\n",
       "        <img alt=\"osTicket :: Staff Control Panel\" src=\"logo.php?login\"/>\n",
       "    </a></h1>\n",
       "    <h3 id=\"login-message\">2FA Pending</h3>\n",
       "    <div class=\"banner\"><small></small></div>\n",
       "    <div class=\"dialog\" id=\"loading\" style=\"display:none;\">\n",
       "        <h1><i class=\"icon-spinner icon-spin icon-large\"></i>\n",
       "        Verifying</h1>\n",
       "    </div>\n",
       "    <form action=\"login.php\" id=\"login\" method=\"post\" onsubmit=\"attemptLoginAjax(event)\">\n",
       "        <input name=\"__CSRFToken__\" type=\"hidden\" value=\"f6e6255ce8527f05933fae6f8e29bf40f218a36b\"/><div class=\"form-simple\">\n",
       "            <div class=\"flush-left custom-field\" id=\"field_a4b3dd124ef401\">\n",
       "        <div>\n",
       "          <div class=\"field-label required\">\n",
       "        <label for=\"a4b3dd124ef401\">\n",
       "            Verification Code:\n",
       "              <span class=\"error\">*</span>\n",
       "          </label>\n",
       "        </div>\n",
       "                      <em style=\"color:gray;display:block\">Please enter the code you were sent</em>\n",
       "                </div><div>\n",
       "                <input autocomplete=\"one-time-code\" id=\"_a4b3dd124ef401\" inputmode=\"numeric\" maxlength=\"40\" name=\"a4b3dd124ef401\" pattern=\"[0-9]*\" placeholder=\"\" size=\"40\" type=\"text\" value=\"\"/>\n",
       "                </div>\n",
       "                </div>\n",
       "    </div>\n",
       "            <fieldset style=\"padding-top:10px;\">\n",
       "            <input name=\"do\" type=\"hidden\" value=\"2fa\"/>\n",
       "            <button class=\"submit button pull-center\" name=\"submit\" type=\"submit\"><i class=\"icon-signin\"></i>\n",
       "                Verify            </button>\n",
       "             </fieldset>\n",
       "            </form>\n",
       "\n",
       "    <div id=\"company\">\n",
       "        <div class=\"content\">\n",
       "            Copyright © IDrive        </div>\n",
       "    </div>\n",
       "</div>\n",
       "<div id=\"poweredBy\">Powered by    <a href=\"http://www.osticket.com\" target=\"_blank\">\n",
       "        <img alt=\"osTicket\" class=\"osticket-logo\" src=\"images/osticket-grey.png\"/>\n",
       "    </a>\n",
       "</div>\n",
       "    <script>\n",
       "    document.addEventListener('DOMContentLoaded', function() {\n",
       "        if (undefined === window.getComputedStyle(document.documentElement).backgroundBlendMode) {\n",
       "            document.getElementById('loginBox').style.backgroundColor = 'white';\n",
       "        }\n",
       "    });\n",
       "\n",
       "    function attemptLoginAjax(e) {\n",
       "        $('#loading').show();\n",
       "        var objectifyForm = function(formArray) { //serialize data function\n",
       "            var returnArray = {};\n",
       "            for (var i = 0; i < formArray.length; i++) {\n",
       "                returnArray[formArray[i]['name']] = formArray[i]['value'];\n",
       "            }\n",
       "            return returnArray;\n",
       "        };\n",
       "        if ($.fn.effect) {\n",
       "            // For some reason, JQuery-UI shake does not considere an element's\n",
       "            // padding when shaking. Looks like it might be fixed in 1.12.\n",
       "            // Thanks, https://stackoverflow.com/a/22302374\n",
       "            var oldEffect = $.fn.effect;\n",
       "            $.fn.effect = function (effectName) {\n",
       "                if (effectName === \"shake\") {\n",
       "                    $('#loading').hide();\n",
       "                    var old = $.effects.createWrapper;\n",
       "                    $.effects.createWrapper = function (element) {\n",
       "                        var result;\n",
       "                        var oldCSS = $.fn.css;\n",
       "\n",
       "                        $.fn.css = function (size) {\n",
       "                            var _element = this;\n",
       "                            var hasOwn = Object.prototype.hasOwnProperty;\n",
       "                            return _element === element && hasOwn.call(size, \"width\") && hasOwn.call(size, \"height\") && _element || oldCSS.apply(this, arguments);\n",
       "                        };\n",
       "\n",
       "                        result = old.apply(this, arguments);\n",
       "\n",
       "                        $.fn.css = oldCSS;\n",
       "                        return result;\n",
       "                    };\n",
       "                }\n",
       "                return oldEffect.apply(this, arguments);\n",
       "            };\n",
       "        }\n",
       "        var form = $(e.target),\n",
       "            data = objectifyForm(form.serializeArray())\n",
       "        data.ajax = 1;\n",
       "        $('button[type=submit]', form).attr('disabled', 'disabled');\n",
       "        $.ajax({\n",
       "            url: form.attr('action'),\n",
       "            method: 'POST',\n",
       "            data: data,\n",
       "            cache: false,\n",
       "            success: function(json) {\n",
       "                 $('button[type=submit]', form).removeAttr('disabled');\n",
       "                if (!typeof(json) === 'object' || !json.status)\n",
       "                    return;\n",
       "                switch (json.status) {\n",
       "                case 401:\n",
       "                    if (json && json.redirect)\n",
       "                        document.location.href = json.redirect;\n",
       "                    if (json && json.message)\n",
       "                        $('#login-message').text(json.message)\n",
       "                    if (json && json.show_reset)\n",
       "                        $('#reset-link').show()\n",
       "                    if ($.fn.effect) {\n",
       "                        $('#loginBox').effect('shake')\n",
       "                    }\n",
       "                    // Clear the password field\n",
       "                    $('#pass').val('').focus();\n",
       "                    break\n",
       "                case 302:\n",
       "                    if (json && json.redirect)\n",
       "                        document.location.href = json.redirect;\n",
       "                    break\n",
       "                }\n",
       "            },\n",
       "        });\n",
       "        e.preventDefault();\n",
       "        e.stopPropagation();\n",
       "        e.stopImmediatePropagation();\n",
       "        return false;\n",
       "    }\n",
       "    </script>\n",
       "    <!--[if IE]>\n",
       "    <style>\n",
       "        #loginBox:after { background-color: white !important; }\n",
       "    </style>\n",
       "    <![endif]-->\n",
       "    <script src=\"/js/jquery-ui-1.13.2.custom.min.js\" type=\"text/javascript\"></script>\n",
       "\n",
       "\n",
       "</body></html>"
      ]
     },
     "execution_count": 4,
     "metadata": {},
     "output_type": "execute_result"
    }
   ],
   "source": [
    "soup"
   ]
  },
  {
   "cell_type": "code",
   "execution_count": 6,
   "id": "7d05f9a4",
   "metadata": {},
   "outputs": [],
   "source": [
    "twoFA = {\n",
    "    'do': \"2fa\",\n",
    "    '__CSRFToken__': 'f6e6255ce8527f05933fae6f8e29bf40f218a36b',\n",
    "    'a4b3dd124ef401': 443834\n",
    "    \n",
    "}\n",
    "\n"
   ]
  },
  {
   "cell_type": "code",
   "execution_count": 19,
   "id": "399afc5a",
   "metadata": {},
   "outputs": [
    {
     "name": "stdout",
     "output_type": "stream",
     "text": [
      "https://ticket.idrive.com/scp/ajax.php/tickets/1732541/status/close/3?_uid=1740754928259\n",
      "https://ticket.idrive.com/scp/ajax.php/tickets/1732541/status\n"
     ]
    }
   ],
   "source": [
    "status = {\n",
    "    \"status_id\": \"3\",\n",
    "    \"comments\": \"\",\n",
    "    \"undefined\": \"Close\"\n",
    "}\n",
    "\n",
    "close_url_get = \"https://ticket.idrive.com/scp/ajax.php/tickets/1732541/status/close/3?_uid=\" + str(int(t.time()*1000))\n",
    "close_url_post = \"https://ticket.idrive.com/scp/ajax.php/tickets/1732541/status\"\n",
    "print(close_url_get)\n",
    "print(close_url_post)"
   ]
  },
  {
   "cell_type": "code",
   "execution_count": 7,
   "id": "2a771492",
   "metadata": {},
   "outputs": [],
   "source": [
    "auth = session.post(\"https://ticket.idrive.com/scp/login.php\",data=twoFA)"
   ]
  },
  {
   "cell_type": "code",
   "execution_count": 20,
   "id": "bfb447be",
   "metadata": {},
   "outputs": [
    {
     "name": "stdout",
     "output_type": "stream",
     "text": [
      "<Response [403]> b'Must login: Session timed out due to inactivity'\n",
      "=============================\n",
      "<Response [403]> b'Must login: Session timed out due to inactivity'\n"
     ]
    }
   ],
   "source": [
    "#change state\n",
    "status = session.get(close_url_get)\n",
    "status2 = session.post(close_url_post,data=status)\n",
    "print(status,status.content)\n",
    "print(\"=============================\")\n",
    "print(status2,status2.content)"
   ]
  },
  {
   "cell_type": "code",
   "execution_count": 30,
   "id": "67571119",
   "metadata": {},
   "outputs": [
    {
     "data": {
      "text/plain": [
       "<Response [200]>"
      ]
     },
     "execution_count": 30,
     "metadata": {},
     "output_type": "execute_result"
    }
   ],
   "source": [
    "auth"
   ]
  },
  {
   "cell_type": "code",
   "execution_count": 8,
   "id": "315575df",
   "metadata": {},
   "outputs": [],
   "source": [
    "ticket_soup = session.post(\"https://ticket.idrive.com/scp/tickets.php?id=1455937\",)"
   ]
  },
  {
   "cell_type": "code",
   "execution_count": 12,
   "id": "6d36483a",
   "metadata": {},
   "outputs": [],
   "source": [
    "soup = BeautifulSoup(ticket_soup.content,'html5lib')\n"
   ]
  },
  {
   "cell_type": "code",
   "execution_count": 25,
   "id": "59494c12",
   "metadata": {},
   "outputs": [],
   "source": [
    "depart_head_selector = \"div#content > :nth-child(4) >:nth-child(1) >:nth-child(1) >:nth-child(1) >:nth-child(1) >:nth-child(1) >:nth-child(3) >:nth-child(2)\"\n",
    "depart_name_selector = \"div#content > :nth-child(4) >:nth-child(1) >:nth-child(1) >:nth-child(1) >:nth-child(1) >:nth-child(1) >:nth-child(3) >:nth-child(2)\"\n",
    "\n",
    "assigned_agent_selector = \"div#content > :nth-child(6) >:nth-child(1) >:nth-child(1) >:nth-child(1) >:nth-child(1) >:nth-child(1) >:nth-child(1) >:nth-child(2)\"\n"
   ]
  },
  {
   "cell_type": "code",
   "execution_count": 26,
   "id": "c0376100",
   "metadata": {},
   "outputs": [
    {
     "data": {
      "text/plain": [
       "[<th>Department:</th>]"
      ]
     },
     "execution_count": 26,
     "metadata": {},
     "output_type": "execute_result"
    }
   ],
   "source": [
    "soup.select(depart_head_selector)"
   ]
  },
  {
   "cell_type": "code",
   "execution_count": 15,
   "id": "1556cc88",
   "metadata": {},
   "outputs": [],
   "source": [
    "def get_agents_or_departments(session):\n",
    "    ticket = search_query(session, ticketURL=url)\n",
    "    soup = BeautifulSoup(ticket.content, 'html5lib')\n",
    "    dropdownitems = []\n",
    "    for select in soup.select(\".form-simple select\"):\n",
    "        for option in select.find_all(\"option\"):\n",
    "            department = option.get_text().strip().split(\n",
    "                \"Support /\")[-1].strip()\n",
    "            if department not in exclude:\n",
    "                dropdownitems.append(department)\n",
    "    return dropdownitems"
   ]
  },
  {
   "cell_type": "code",
   "execution_count": 16,
   "id": "a2496853",
   "metadata": {},
   "outputs": [
    {
     "data": {
      "text/plain": [
       "['— Select an Agent —',\n",
       " 'abbaraju sasank',\n",
       " 'abhijeet Dey',\n",
       " 'abhijeet ghosh',\n",
       " 'Abhishek Sharma',\n",
       " 'akash narzary',\n",
       " 'akash waghamare',\n",
       " 'Akhil Pedada',\n",
       " 'Akshay B',\n",
       " 'Akshay V',\n",
       " 'amarnath amarnath',\n",
       " 'Amrit Kulkarni',\n",
       " 'anamica nanda',\n",
       " 'Aneesh Ram',\n",
       " 'Angshuman Das',\n",
       " 'Arun Krishnan',\n",
       " 'ashwini kamath',\n",
       " 'basavaraj tippannavar',\n",
       " 'Chandan Support',\n",
       " 'chandana gopal',\n",
       " 'Chetan G',\n",
       " 'Deepak Reddy',\n",
       " 'Deepak kumar Gupta',\n",
       " 'Goutam Support',\n",
       " 'Goutham MN',\n",
       " 'Harish Babu',\n",
       " 'Harshith D',\n",
       " 'Jaspher Issac',\n",
       " 'Johnny Thomas',\n",
       " 'Johnson Prabu',\n",
       " 'Karthik Natarajan',\n",
       " 'karthik ramamurthy',\n",
       " 'karthikeyan n',\n",
       " 'Krishna Menedhar',\n",
       " 'Laxmon Philip',\n",
       " 'mahesh gutte',\n",
       " 'manikandan krishnakumar',\n",
       " 'Manikandan Support',\n",
       " 'mannam brahmaiah',\n",
       " 'Mathan Kumar',\n",
       " 'Melvin mathew',\n",
       " 'mohit moonat',\n",
       " 'Nandu Suresh',\n",
       " 'Narendra Gaindhar',\n",
       " 'Nikhil Ugrankar',\n",
       " 'Prabhu PT',\n",
       " 'prasanjit chatterjee',\n",
       " 'Praveen Shivappa',\n",
       " 'preetam cr',\n",
       " 'Pruthvi Srinagakonda',\n",
       " 'Punith B M',\n",
       " 'Rahul Raj',\n",
       " 'rajaramana murugan',\n",
       " 'Rajath .',\n",
       " 'rajkumar kb',\n",
       " 'Rakesh V',\n",
       " 'Ravi Chandra',\n",
       " 'Rishabh Singh',\n",
       " 'Sai Deep',\n",
       " 'sam thomas',\n",
       " 'Sandeep Kumar G R',\n",
       " 'Sandeep  Shenoy',\n",
       " 'Sanjay Yenugu',\n",
       " 'Santanu Chowdhury',\n",
       " 'Santhosh Support',\n",
       " 'Sarthak HS',\n",
       " 'Satish Ningaiah',\n",
       " 'Shanmugaraj M',\n",
       " 'Sumit Sangwai',\n",
       " 'supreeth s',\n",
       " 'Suraj Hekare',\n",
       " 'Sushanth Rao',\n",
       " 'Thilagaraj M',\n",
       " 'Ticket verify',\n",
       " 'Udaya narayan',\n",
       " 'Ved Kulkarni',\n",
       " 'Vignesh M',\n",
       " 'Vinil PV']"
      ]
     },
     "execution_count": 16,
     "metadata": {},
     "output_type": "execute_result"
    }
   ],
   "source": [
    "get_agents_or_departments(soup)"
   ]
  },
  {
   "cell_type": "code",
   "execution_count": 34,
   "id": "776de7a9",
   "metadata": {},
   "outputs": [],
   "source": [
    "def find_thread_id(soup):\n",
    "    threads = []\n",
    "    for thread in soup.find_all(\"div\",{\"id\": re.compile(r\"^thread-entry-\\d{7}$\")}):\n",
    "        match = re.match(r\"^thread-entry-\\d{7}$\",thread.get(\"id\"))\n",
    "        obj = {}\n",
    "        if(match):\n",
    "            obj[\"id\"] = match.group()\n",
    "        for b, time in zip_longest(thread.select(selector1), thread.select(selector2)):\n",
    "            obj['agent'] = b.get_text().strip()\n",
    "            obj['time'] =time.get_text().strip().replace(\"\\u202f\", \" \")\n",
    "            obj['timestamp'] = datetime.strptime(time.get_text().strip().replace(\"\\u202f\", \" \"),\n",
    "                                                      '%m/%d/%y %I:%M %p').timestamp()\n",
    "            obj[\"type\"] = \"note\"\n",
    "            threads.append(obj)\n",
    "        for b, time in zip_longest(thread.select(selector4), thread.select(selector5)):\n",
    "            obj['agent'] = b.get_text().strip()\n",
    "            obj['time'] =time.get_text().strip().replace(\"\\u202f\", \" \")\n",
    "            obj['timestamp'] = datetime.strptime(time.get_text().strip().replace(\"\\u202f\", \" \"),\n",
    "                                                      '%m/%d/%y %I:%M %p').timestamp()\n",
    "            obj[\"type\"] = \"response\"\n",
    "            threads.append(obj)\n",
    "        for b, time in zip_longest(thread.select(selector6), thread.select(selector7)):\n",
    "            obj['agent'] = b.get_text().strip()\n",
    "            obj['time'] =time.get_text().strip().replace(\"\\u202f\", \" \")\n",
    "            obj['timestamp'] = datetime.strptime(time.get_text().strip().replace(\"\\u202f\", \" \"),\n",
    "                                                      '%m/%d/%y %I:%M %p').timestamp()\n",
    "            obj[\"type\"] = \"message\"\n",
    "            threads.append(obj)\n",
    "    return threads\n",
    "        "
   ]
  },
  {
   "cell_type": "code",
   "execution_count": 35,
   "id": "71dccbb1",
   "metadata": {},
   "outputs": [
    {
     "data": {
      "text/plain": [
       "[{'id': 'thread-entry-7256480',\n",
       "  'agent': 'Sandeep Kumar',\n",
       "  'time': '2/27/25 3:58 PM',\n",
       "  'timestamp': 1740652080.0,\n",
       "  'type': 'message'},\n",
       " {'id': 'thread-entry-7256496',\n",
       "  'agent': 'Sandeep Kumar G R',\n",
       "  'time': '2/27/25 4:04 PM',\n",
       "  'timestamp': 1740652440.0,\n",
       "  'type': 'note'}]"
      ]
     },
     "execution_count": 35,
     "metadata": {},
     "output_type": "execute_result"
    }
   ],
   "source": [
    "thread = find_thread_id(soup)\n",
    "thread"
   ]
  },
  {
   "cell_type": "code",
   "execution_count": 214,
   "id": "3c822584",
   "metadata": {},
   "outputs": [
    {
     "name": "stdout",
     "output_type": "stream",
     "text": [
      "create a new note\n"
     ]
    }
   ],
   "source": [
    "while len(thread) > 0:\n",
    "    item = thread.pop()\n",
    "    if(item[\"type\"] == \"message\" or item['type'] == \"response\"):\n",
    "        print('create a new note')\n",
    "        break\n",
    "    elif item['type'] == \"note\" :\n",
    "        print(\"update the note: \", item[\"id\"])\n",
    "        break\n",
    "        "
   ]
  },
  {
   "cell_type": "code",
   "execution_count": 219,
   "id": "5d11b59b",
   "metadata": {},
   "outputs": [],
   "source": [
    "note_edit_url = \"https://ticket.idrive.com/scp/ajax.php/tickets/1606885/thread/6688036/edit\"\n",
    "note_add_url = \"https://ticket.idrive.com/scp/tickets.php?id=1606884\""
   ]
  },
  {
   "cell_type": "code",
   "execution_count": 208,
   "id": "b9b0816f",
   "metadata": {},
   "outputs": [],
   "source": [
    "note_edit_body = {\n",
    "    \"title\":\"\",\n",
    "    \"body\": \"editing the body - app --------------------------------------------\",\n",
    "    \"__CSRFToken__\":\"52ded340dbbe9b71533ee2a52b0f9413c7ddcf5f\",\n",
    "    \"commit\":\"save\"\n",
    "}"
   ]
  },
  {
   "cell_type": "code",
   "execution_count": 221,
   "id": "c7f3b172",
   "metadata": {},
   "outputs": [],
   "source": [
    "note_add_body = {\n",
    "    \"__CSRFToken__\":\"52ded340dbbe9b71533ee2a52b0f9413c7ddcf5f\",\n",
    "    \"id\" :\"1606884\",\n",
    "    \"lockCode\":\"\",\n",
    "    \"locktime\":\"0\",\n",
    "    \"a\":\"postnote\",\n",
    "    \"title\":\"E2 Team Update\",\n",
    "    \"note\":'''\n",
    "    Frankfurt\t216.155.20.141 , 212.124.86.136 , 212.124.86.140 , 216.107.26.234 , 216.155.20.151 , 216.155.20.136 , 212.124.86.146 , 212.124.86.143 , 212.124.86.133 , 216.155.20.147 , 216.155.20.155 , 212.124.86.137 , 212.124.86.141 , 212.124.86.148 , 216.155.20.152 , 212.124.86.144 , 216.155.20.142 , 212.124.86.145 , 212.124.86.134 , 216.155.20.156 , 216.155.20.139 , 216.155.20.148 , 216.107.26.233 , 212.124.86.138 , 212.124.86.142 , 216.155.20.138 , 216.155.20.145 , 216.155.20.153 , 216.155.20.143 , 216.155.20.135 , 212.124.86.147 , 212.124.86.135 , 216.155.20.130 , 216.155.20.150 , 216.155.20.140 , 216.155.20.149 , 212.124.86.139 , 216.107.26.214 , 212.124.86.132 , 216.155.20.146 , 216.155.20.154 , 216.107.26.232\n",
    "Frankfurt-2\t148.51.218.3 , 148.51.218.4 , 148.51.218.1 , 148.51.218.2\n",
    "    ''',\n",
    "}"
   ]
  },
  {
   "cell_type": "code",
   "execution_count": 209,
   "id": "8e92456d",
   "metadata": {},
   "outputs": [
    {
     "data": {
      "text/plain": [
       "<Response [201]>"
      ]
     },
     "execution_count": 209,
     "metadata": {},
     "output_type": "execute_result"
    }
   ],
   "source": [
    "session.post(note_edit_url,data=note_edit_body)"
   ]
  },
  {
   "cell_type": "code",
   "execution_count": 222,
   "id": "34bcd89b",
   "metadata": {},
   "outputs": [],
   "source": [
    "note = session.post(note_add_url,data=note_add_body)\n",
    "note_soup = BeautifulSoup(note.content,'html5lib')\n"
   ]
  },
  {
   "cell_type": "code",
   "execution_count": 36,
   "id": "693a5070",
   "metadata": {},
   "outputs": [],
   "source": [
    "def find_responses(soup, selector1, selector2):\n",
    "    responses = []\n",
    "    for b, time in zip_longest(soup.select(selector1), soup.select(selector2)):\n",
    "        #         print(b.get_text().strip(),time.get_text().strip())\n",
    "        responses.append({\"agent\": b.get_text().strip(),\n",
    "                          \"time\": time.get_text().strip(),\n",
    "                          \"timestamp\": datetime.strptime(time.get_text().strip().replace(\"\\u202f\", \" \"),\n",
    "                                                         '%m/%d/%y %I:%M %p').timestamp()\n",
    "                          })\n",
    "    return responses"
   ]
  },
  {
   "cell_type": "code",
   "execution_count": 37,
   "id": "43a50d36",
   "metadata": {},
   "outputs": [],
   "source": [
    "def extract_ticket_url(soup, ticket):\n",
    "    url = \"\"\n",
    "    for tr in soup.select(\".list tbody tr\"):\n",
    "        for td in tr.select(\"td:nth-child(2)\"):\n",
    "            if (td.get_text().strip() == ticket):\n",
    "                url = \"https://ticket.idrive.com\" + \\\n",
    "                    td.find_all(\"a\")[0]['href']\n",
    "                break\n",
    "    return url"
   ]
  },
  {
   "cell_type": "code",
   "execution_count": 38,
   "id": "7e7505eb",
   "metadata": {},
   "outputs": [],
   "source": [
    "\n",
    "# ticketSearch = search_query(session, searchQuery ='ID631687257')\n",
    "# searchSoup = BeautifulSoup(ticketSearch.content,'html5lib')\n",
    "# ticketURL = extract_ticket_url(searchSoup,'ID631687257')\n",
    "# ticket = search_query(session,ticketURL)\n",
    "# soup = BeautifulSoup(ticket.content,'html5lib')"
   ]
  },
  {
   "cell_type": "code",
   "execution_count": 39,
   "id": "6d90b651",
   "metadata": {},
   "outputs": [],
   "source": [
    "def paranthesis_string(strings):\n",
    "    formatted_text = (\"\")\n",
    "    for string in strings:\n",
    "        formatted_text += string + \"\\n\"\n",
    "    return formatted_text"
   ]
  },
  {
   "cell_type": "code",
   "execution_count": 7,
   "id": "981df5f4",
   "metadata": {},
   "outputs": [],
   "source": [
    "def find_notes(soup, selector1, selector2):\n",
    "    # .thread-entry.message .header  --> user response\n",
    "    # .thread-entry.note .header --> notes\n",
    "    # .thread-event.action .faded.description  --> thread action\n",
    "    # .thread-entry.response .header     --> agent response\n",
    "    notes = []\n",
    "    for b, time,body in zip_longest(soup.select(selector1), soup.select(selector2),soup.select(note_body)):\n",
    "        #         print(b.get_text().strip(),time.get_text().strip())\n",
    "        notes.append({\"agent\": b.get_text().strip(),\n",
    "                      \"time\": time.get_text().strip().replace(\"\\u202f\", \" \"),\n",
    "                      \"timestamp\": datetime.strptime(time.get_text().strip().replace(\"\\u202f\", \" \"),\n",
    "                                                     '%m/%d/%y %I:%M %p').timestamp(),\n",
    "                      \"type\": \"note\",\n",
    "                      \"body\": paranthesis_string(body.get_text().split(\"\\n\"))\n",
    "                      })\n",
    "    return notes"
   ]
  },
  {
   "cell_type": "code",
   "execution_count": 8,
   "id": "4bbb4515",
   "metadata": {},
   "outputs": [],
   "source": [
    "def find_ticket_events(soup, selector):\n",
    "    events = []\n",
    "    for strong in soup.select(selector):\n",
    "        if (\"transferred this to\" in strong.get_text().strip()):\n",
    "            item = {\"agent\":   strong.select(\"b\")[0].get_text().strip(),\n",
    "                    \"department\":   strong.select(\"strong\")[0].get_text().strip(),\n",
    "                    \"time\":   strong.select(\"time\")[0].get_text().strip(),\n",
    "                    \"timestamp\":   datetime.strptime(strong.select(\"time\")[0].get_text().strip().replace(\"\\u202f\", \" \"),\n",
    "                                                     '%m/%d/%y %I:%M %p').timestamp(),\n",
    "                    \"type\": 'event'\n",
    "                    }\n",
    "            events.append(item)\n",
    "    return events"
   ]
  },
  {
   "cell_type": "code",
   "execution_count": 9,
   "id": "563d8a41",
   "metadata": {},
   "outputs": [],
   "source": [
    "def find_responses(soup, selector1, selector2):\n",
    "    responses = []\n",
    "    for b, time in zip_longest(soup.select(selector1), soup.select(selector2)):\n",
    "        #         print(b.get_text().strip(),time.get_text().strip())\n",
    "        responses.append({\"agent\": b.get_text().strip(),\n",
    "                          \"time\": time.get_text().strip().replace(\"\\u202f\", \" \"),\n",
    "                          \"timestamp\": datetime.strptime(time.get_text().strip().replace(\"\\u202f\", \" \"),\n",
    "                                                         '%m/%d/%y %I:%M %p').timestamp(),\n",
    "                          \"type\":\"response\"\n",
    "                          })\n",
    "    return responses"
   ]
  },
  {
   "cell_type": "code",
   "execution_count": 10,
   "id": "aed8bce5",
   "metadata": {},
   "outputs": [],
   "source": [
    "def find_messages(soup, selector1, selector2):\n",
    "    messages = []\n",
    "    for b, time in zip_longest(soup.select(selector1), soup.select(selector2)):\n",
    "        #         print(b.get_text().strip(),time.get_text().strip())\n",
    "        messages.append({\"agent\": b.get_text().strip(),\n",
    "                         \"time\": time.get_text().strip().replace(\"\\u202f\", \" \"),\n",
    "                         \"timestamp\": datetime.strptime(time.get_text().strip(),\n",
    "                                                        '%m/%d/%y %I:%M %p').timestamp(),\n",
    "                         \"type\":\"message\"\n",
    "                         })\n",
    "    return messages\n"
   ]
  },
  {
   "cell_type": "code",
   "execution_count": 44,
   "id": "3b04f400",
   "metadata": {},
   "outputs": [],
   "source": [
    "notes = find_notes(soup,selector1,selector2)\n",
    "# events = find_ticket_events(soup,selector3)\n",
    "responses = find_responses(soup,selector4,selector5)\n",
    "messages = find_messages(soup,selector6,selector7)\n",
    "# find_res_pending(responses,messages)\n",
    "# find_res_pending_new(\"ID226483533\",responses,messages)"
   ]
  },
  {
   "cell_type": "code",
   "execution_count": 45,
   "id": "8d7a2ca1",
   "metadata": {},
   "outputs": [],
   "source": [
    "thread = []\n",
    "thread.extend(notes)"
   ]
  },
  {
   "cell_type": "code",
   "execution_count": 202,
   "id": "9a7efcc3",
   "metadata": {},
   "outputs": [],
   "source": [
    "thread.sort(key=lambda x:x[\"timestamp\"])"
   ]
  },
  {
   "cell_type": "code",
   "execution_count": 203,
   "id": "d0a388ac",
   "metadata": {},
   "outputs": [],
   "source": [
    "with open(\"./test.txt\",\"w+\") as f:\n",
    "    for text in thread:\n",
    "        f.write(text[\"body\"])"
   ]
  },
  {
   "cell_type": "code",
   "execution_count": 46,
   "id": "abe35163",
   "metadata": {},
   "outputs": [
    {
     "data": {
      "text/plain": [
       "[{'agent': 'Sandeep Kumar G R',\n",
       "  'time': '2/27/25 4:04 PM',\n",
       "  'timestamp': 1740652440.0,\n",
       "  'type': 'note',\n",
       "  'body': '\\n        ID306139775 10 supreeth s\\n        \\n    \\n'}]"
      ]
     },
     "execution_count": 46,
     "metadata": {},
     "output_type": "execute_result"
    }
   ],
   "source": [
    "thread"
   ]
  },
  {
   "cell_type": "code",
   "execution_count": 40,
   "id": "4098683b",
   "metadata": {},
   "outputs": [],
   "source": [
    "def find_res_pending(responses,messages):\n",
    "    i = 0\n",
    "    res_len = len(responses)\n",
    "    no_response = None\n",
    "    if messages:\n",
    "        msg = messages.pop()\n",
    "        while i < res_len:\n",
    "            res = responses.pop()\n",
    "            if msg['timestamp'] > res['timestamp']:\n",
    "                no_response = msg\n",
    "            else:\n",
    "                break\n",
    "            i += 1\n",
    "        return str(datetime.now() - time(no_response['timestamp'])) if no_response else \"Updated\"\n",
    "    return \"Updated\""
   ]
  },
  {
   "cell_type": "code",
   "execution_count": 41,
   "id": "2bc16fce",
   "metadata": {},
   "outputs": [],
   "source": [
    "from collections import deque\n",
    "\n",
    "def find_res_pending_new(ticket,responses, messages):\n",
    "    i = 0\n",
    "    time_diff_dict = {\"ticket\": ticket}\n",
    "    no_response = deque(maxlen=5)\n",
    "    if messages:\n",
    "        for idx in range(5):\n",
    "            if messages:\n",
    "                if len(messages) > 0 and len(responses) > 0:\n",
    "                    msg = messages.pop()\n",
    "                    res = responses.pop()\n",
    "                    time_diff = res['timestamp'] - msg['timestamp'] \n",
    "                    print(\"-------------------------------------------------------\")\n",
    "                    print(msg)\n",
    "                    print(res)\n",
    "                    print(str(time(res['timestamp'])-time(msg['timestamp'])))\n",
    "                    print(\"-------------------------------------------------------\")\n",
    "                    temp_main = res\n",
    "                    temp_main_diff = str(time(res['timestamp'])-time(msg['timestamp']))\n",
    "                    time_diff_dict[\"Thread_\"+str(idx+1)] = \"Received: \" + msg['time'] +\" || \" + \"Replied: \" + temp_main_diff\n",
    "                    if(time_diff > 3600):\n",
    "                        while len(responses) > 0:\n",
    "                            res = responses.pop()\n",
    "                            temp = res\n",
    "                            time_diff = res['timestamp'] - msg['timestamp'] \n",
    "                            temp_diff = str(time(res['timestamp'])-time(msg['timestamp']))\n",
    "                            if time_diff > 3600:\n",
    "                                print(\"***************************************************\")\n",
    "                                print(msg)\n",
    "                                print(res)\n",
    "                                print(str(time(res['timestamp'])-time(msg['timestamp']))) \n",
    "                                print(\"***************************************************\")\n",
    "                                time_diff_dict[\"Thread_\"+str(idx+1)] = \"Received: \" + msg['time'] +\" || \" + \"Replied: \" + temp_diff\n",
    "                                continue\n",
    "                            elif time_diff < 0:\n",
    "                                print(\"=====================================================\")\n",
    "                                print(msg)\n",
    "                                print(res)\n",
    "                                print(str(time(res['timestamp'])-time(msg['timestamp']))) \n",
    "                                print(\"=====================================================\")\n",
    "                                responses.append(res)\n",
    "                                break\n",
    "                            elif time_diff <= 3600:\n",
    "                                print(\"......................................................\")\n",
    "                                print(msg)\n",
    "                                print(res)\n",
    "                                print(str(time(res['timestamp'])-time(msg['timestamp']))) \n",
    "                                print(\"......................................................\")\n",
    "                                break\n",
    "                    elif time_diff < 0:\n",
    "                        print(\">>>>>>>>>>>>>>>>>>>>>>>>>>>>>>>>>>>>>>>>>>>>>>>>>>>>>>>>>>\")\n",
    "                        print(msg)\n",
    "                        print(res)\n",
    "                        print(str(time(res['timestamp'])-time(msg['timestamp']))) \n",
    "                        print(\"<<<<<<<<<<<<<<<<<<<<<<<<<<<<<<<<<<<<<<<<<<<<<<<<<<<<<<<<<<<\")\n",
    "                        responses.append(res)\n",
    "    return time_diff_dict\n",
    "                    "
   ]
  },
  {
   "cell_type": "code",
   "execution_count": null,
   "id": "31cffe6e",
   "metadata": {},
   "outputs": [],
   "source": [
    "# allEvents = []\n",
    "# allEvents.extend(notes)\n",
    "# allEvents.extend(events)\n",
    "# allEvents.extend(responses)\n",
    "# allEvents.extend(messages)"
   ]
  },
  {
   "cell_type": "code",
   "execution_count": null,
   "id": "1d30afeb",
   "metadata": {},
   "outputs": [],
   "source": [
    "# allEvents.sort(key=lambda x:x['timestamp'])"
   ]
  },
  {
   "cell_type": "code",
   "execution_count": null,
   "id": "b6e331c5",
   "metadata": {},
   "outputs": [],
   "source": [
    "# notes = find_notes(soup,selector1,selector2)\n",
    "# events = find_ticket_events(soup,selector3)"
   ]
  },
  {
   "cell_type": "code",
   "execution_count": 42,
   "id": "27c1f7e2",
   "metadata": {},
   "outputs": [],
   "source": [
    "# parse_result = urlparse(ticketURL)\n",
    "# ticketID = parse_qs(parse_result.query)['id'][0]\n",
    "\n",
    "# agentsURL = \"https://ticket.idrive.com/scp/ajax.php/tickets/\" + ticketID + \"/assign/agents\"\n",
    "# departmentURL = \"https://ticket.idrive.com/scp/ajax.php/tickets/\" + ticketID + \"/transfer\"\n",
    "\n",
    "def agents_in_department(url):\n",
    "    ticket = search_query(session,url)\n",
    "    soup = BeautifulSoup(ticket.content,'html5lib')\n",
    "    dropdownitems = []\n",
    "    for select in soup.select(\".form-simple select\"):\n",
    "        for option in select.find_all(\"option\"):\n",
    "            department = option.get_text().strip().split(\"Support /\")[-1].strip()\n",
    "            if department not in exclude:\n",
    "                dropdownitems.append(department)\n",
    "    \n",
    "    return dropdownitems"
   ]
  },
  {
   "cell_type": "code",
   "execution_count": 43,
   "id": "a55e9de2",
   "metadata": {},
   "outputs": [],
   "source": [
    "def get_agents_or_departments(session,url):\n",
    "    ticket = search_query(session,url)\n",
    "    soup = BeautifulSoup(ticket.content,'html5lib')\n",
    "    dropdownitems = []\n",
    "    for select in soup.select(\".form-simple select\"):\n",
    "        for option in select.find_all(\"option\"):\n",
    "            department = option.get_text().strip().split(\"Support /\")[-1].strip()\n",
    "            if department not in exclude:\n",
    "                dropdownitems.append(department)\n",
    "    return dropdownitems\n"
   ]
  },
  {
   "cell_type": "code",
   "execution_count": 44,
   "id": "dcdbd5f8",
   "metadata": {},
   "outputs": [],
   "source": [
    "def find_last_escalated_item(events,department):\n",
    "    i = 0\n",
    "    escalated = None\n",
    "    events_len = len(events)\n",
    "    while i < events_len:\n",
    "        item = events.pop()\n",
    "        if item[\"department\"] in department:\n",
    "            escalated = item\n",
    "            break\n",
    "        i += 1\n",
    "    return escalated"
   ]
  },
  {
   "cell_type": "code",
   "execution_count": 45,
   "id": "281ca488",
   "metadata": {},
   "outputs": [],
   "source": [
    "import csv\n",
    "def extract_departments(csvFilePath):\n",
    "    img_obj = {}\n",
    "    columns = ['ticket','department']\n",
    "    try:\n",
    "        with open(csvFilePath,'r',encoding='utf-8') as file:\n",
    "            reader = csv.reader(file,delimiter=',')\n",
    "            for row in reader:\n",
    "                if row != columns:\n",
    "                    img_obj[row[1]] = row[0]\n",
    "        return img_obj\n",
    "    except Exception as e:\n",
    "        return e"
   ]
  },
  {
   "cell_type": "code",
   "execution_count": 46,
   "id": "ee8006d1",
   "metadata": {},
   "outputs": [
    {
     "data": {
      "text/plain": [
       "{'IBWin (EVS)': 'https://ticket.idrive.com/scp/ajax.php/tickets/1319742/assign/agents',\n",
       " 'DavManager (Web)': 'https://ticket.idrive.com/scp/ajax.php/tickets/1319744/assign/agents',\n",
       " 'IDrive 360': 'https://ticket.idrive.com/scp/ajax.php/tickets/1319746/assign/agents',\n",
       " 'IDrive E2': 'https://ticket.idrive.com/scp/ajax.php/tickets/1319747/assign/agents',\n",
       " 'IDriveSync': 'https://ticket.idrive.com/scp/ajax.php/tickets/1319748/assign/agents',\n",
       " 'IBent (Legacy IDrive/IBackup)': 'https://ticket.idrive.com/scp/ajax.php/tickets/1319749/assign/agents',\n",
       " 'Linux': 'https://ticket.idrive.com/scp/ajax.php/tickets/1319751/assign/agents',\n",
       " 'Mobile': 'https://ticket.idrive.com/scp/ajax.php/tickets/1319758/assign/agents',\n",
       " 'RemotePC Development': 'https://ticket.idrive.com/scp/ajax.php/tickets/1319759/assign/agents',\n",
       " 'Remote Desktop Support': 'https://ticket.idrive.com/scp/ajax.php/tickets/1319760/assign/agents',\n",
       " 'RemotePC Codec': 'https://ticket.idrive.com/scp/ajax.php/tickets/1319762/assign/agents',\n",
       " 'Openstack-Infra': 'https://ticket.idrive.com/scp/ajax.php/tickets/1319763/assign/agents',\n",
       " 'Infra': 'https://ticket.idrive.com/scp/ajax.php/tickets/1319764/assign/agents',\n",
       " 'Mac': 'https://ticket.idrive.com/scp/ajax.php/tickets/1319765/assign/agents',\n",
       " 'Mirror': 'https://ticket.idrive.com/scp/ajax.php/tickets/1319766/assign/agents',\n",
       " 'Meeting': 'https://ticket.idrive.com/scp/ajax.php/tickets/1319768/assign/agents',\n",
       " 'India Support': 'https://ticket.idrive.com/scp/ajax.php/tickets/1321297/assign/agents',\n",
       " 'IDrive C2C': 'https://ticket.idrive.com/scp/ajax.php/tickets/1320820/assign/agents'}"
      ]
     },
     "execution_count": 46,
     "metadata": {},
     "output_type": "execute_result"
    }
   ],
   "source": [
    "departments = extract_departments(\"./departments.csv\")\n",
    "departments"
   ]
  },
  {
   "cell_type": "code",
   "execution_count": 32,
   "id": "38d70a87",
   "metadata": {},
   "outputs": [],
   "source": [
    "# def extract_agents(department,visited):\n",
    "#     ticket = departments[department]\n",
    "#     ticketSearch = search_query(session,searchQuery=ticket)\n",
    "#     searchSoup = BeautifulSoup(ticketSearch.content,'html5lib')\n",
    "#     ticketURL = extract_ticket_url(searchSoup,ticket)\n",
    "#     ticketContent = search_query(session,ticketURL)\n",
    "#     parse_result = urlparse(ticketURL)\n",
    "#     ticketID = parse_qs(parse_result.query)['id'][0]\n",
    "#     agentsURL = \"https://ticket.idrive.com/scp/ajax.php/tickets/\" + ticketID + \"/assign/agents\"\n",
    "#     agents = set(agents_in_department(agentsURL))\n",
    "#     visited[department] = agents\n",
    "#     return agents\n",
    "    "
   ]
  },
  {
   "cell_type": "code",
   "execution_count": 47,
   "id": "f585b685",
   "metadata": {},
   "outputs": [],
   "source": [
    "def extract_agents(session,departments,department,visited):\n",
    "    try:\n",
    "        agentsURL = departments[department]\n",
    "        agents = set(get_agents_or_departments(session,agentsURL))\n",
    "        visited[department] = agents\n",
    "        return agents\n",
    "    except Exception as e:\n",
    "        return None"
   ]
  },
  {
   "cell_type": "code",
   "execution_count": 108,
   "id": "24bc0f92",
   "metadata": {},
   "outputs": [
    {
     "data": {
      "text/plain": [
       "{'Abhishek Sharma',\n",
       " 'Akhil Pedada',\n",
       " 'Akshay B',\n",
       " 'Akshay V',\n",
       " 'Amrit Kulkarni',\n",
       " 'Aneesh Ram',\n",
       " 'Angshuman Das',\n",
       " 'Arun Krishnan',\n",
       " 'Chandan Support',\n",
       " 'Chetan G',\n",
       " 'Deepak Reddy',\n",
       " 'Goutam Support',\n",
       " 'Goutham MN',\n",
       " 'Harish Babu',\n",
       " 'Harshith D',\n",
       " 'Jaspher Issac',\n",
       " 'Johnny Thomas',\n",
       " 'Johnson Prabu',\n",
       " 'Karthik Natarajan',\n",
       " 'Krishna Menedhar',\n",
       " 'Laxmon Philip',\n",
       " 'Manikandan Support',\n",
       " 'Mathan Kumar',\n",
       " 'Melvin mathew',\n",
       " 'Nandu Suresh',\n",
       " 'Narendra Gaindhar',\n",
       " 'Nikhil Ugrankar',\n",
       " 'Prabhu PT',\n",
       " 'Praveen Shivappa',\n",
       " 'Pruthvi Srinagakonda',\n",
       " 'Punith B M',\n",
       " 'Rahul Raj',\n",
       " 'Rajath .',\n",
       " 'Rakesh V',\n",
       " 'Ravi Chandra',\n",
       " 'Rishabh Singh',\n",
       " 'Sai Deep',\n",
       " 'Sandeep  Shenoy',\n",
       " 'Sandeep Kumar G R',\n",
       " 'Sanjay Yenugu',\n",
       " 'Santanu Chowdhury',\n",
       " 'Santhosh Support',\n",
       " 'Sarthak HS',\n",
       " 'Satish Ningaiah',\n",
       " 'Shanmugaraj M',\n",
       " 'Sumit Sangwai',\n",
       " 'Suraj Hekare',\n",
       " 'Sushanth Rao',\n",
       " 'Thilagaraj M',\n",
       " 'Ticket verify',\n",
       " 'Udaya narayan',\n",
       " 'Ved Kulkarni',\n",
       " 'Vignesh M',\n",
       " 'Vikram Mutharapu',\n",
       " 'Vinil PV',\n",
       " 'abbaraju sasank',\n",
       " 'abhijeet Dey',\n",
       " 'abhijeet ghosh',\n",
       " 'akash narzary',\n",
       " 'akash waghamare',\n",
       " 'amarnath amarnath',\n",
       " 'anamica nanda',\n",
       " 'ashwini kamath',\n",
       " 'basavaraj tippannavar',\n",
       " 'karthik ramamurthy',\n",
       " 'mahesh gutte',\n",
       " 'prasanjit chatterjee',\n",
       " 'preetam cr',\n",
       " 'rajaramana murugan',\n",
       " 'rajkumar kb',\n",
       " 'sam thomas',\n",
       " 'supreeth s',\n",
       " '— Select an Agent —'}"
      ]
     },
     "execution_count": 108,
     "metadata": {},
     "output_type": "execute_result"
    }
   ],
   "source": [
    "visited = {}\n",
    "extract_agents(session,departments,\"India Support\",visited)"
   ]
  },
  {
   "cell_type": "code",
   "execution_count": 134,
   "id": "f66537b0",
   "metadata": {},
   "outputs": [],
   "source": [
    "search_term = \"sandeep\".lower()\n",
    "matches = [name for name in visited[\"India Support\"] if search_term in name.lower()]"
   ]
  },
  {
   "cell_type": "code",
   "execution_count": 138,
   "id": "03da4bec",
   "metadata": {},
   "outputs": [
    {
     "name": "stdout",
     "output_type": "stream",
     "text": [
      "Sandeep  Shenoy\n",
      "Sandeep Kumar G R\n"
     ]
    }
   ],
   "source": [
    "for name in visited[\"India Support\"]:\n",
    "    if search_term in name.lower():\n",
    "        print(name)"
   ]
  },
  {
   "cell_type": "code",
   "execution_count": 136,
   "id": "ec36b2ae",
   "metadata": {},
   "outputs": [],
   "source": [
    "def get_ticket_url(department):    \n",
    "    ticket = departments[department]\n",
    "    ticketSearch = search_query(session,searchQuery=ticket)\n",
    "    searchSoup = BeautifulSoup(ticketSearch.content,'html5lib')\n",
    "    ticketURL = extract_ticket_url(searchSoup,ticket)\n",
    "    parse_result = urlparse(ticketURL)\n",
    "    ticketID = parse_qs(parse_result.query)['id'][0]\n",
    "    agentsURL = \"https://ticket.idrive.com/scp/ajax.php/tickets/\" + ticketID + \"/assign/agents\"\n",
    "    return agentsURL"
   ]
  },
  {
   "cell_type": "code",
   "execution_count": 49,
   "id": "1a6d6922",
   "metadata": {},
   "outputs": [],
   "source": [
    "# def find_due_date(escalated,notes,ticket,visited):\n",
    "#     i = 0\n",
    "#     dev = None\n",
    "#     diff = None\n",
    "#     updateDuration = None\n",
    "#     notes_len = len(notes)\n",
    "#     if escalated is not None:\n",
    "#         if escalated['department'] not in visited:\n",
    "#              extract_agents(escalated['department'],visited)\n",
    "#     while i < notes_len:\n",
    "#         item = notes.pop()\n",
    "#         if escalated is not None and item['timestamp'] > escalated['timestamp'] and \\\n",
    "#             item['agent'] in visited[escalated['department']]:\n",
    "                \n",
    "#             updateDuration = datetime.fromtimestamp(item['timestamp']) - \\\n",
    "#             datetime.fromtimestamp(escalated['timestamp'])\n",
    "#             dev = item\n",
    "#             break\n",
    "#         i += 1\n",
    "#     if updateDuration is None and escalated is not None:\n",
    "#         diff = datetime.now() - datetime.fromtimestamp(escalated['timestamp'])\n",
    "        \n",
    "#     return {\"ticket\":ticket, \\\n",
    "#             \"due\":str(diff),\\\n",
    "#             \"escalated\":escalated,\\\n",
    "#             \"ifUpdatedTimeTaken\":str(updateDuration),\\\n",
    "#             \"updatedAgent\":dev\n",
    "#            }"
   ]
  },
  {
   "cell_type": "code",
   "execution_count": 50,
   "id": "5801cd16",
   "metadata": {},
   "outputs": [],
   "source": [
    "def find_due_date(session,departments,escalated,\\\n",
    "                notes,ticket,visited,assigned_agent,responses):\n",
    "    i = 0\n",
    "    dev = None\n",
    "    diff = None\n",
    "    updateDuration = None\n",
    "    agent_res = None\n",
    "    agent_res_time = None\n",
    "    dev_update_time = None\n",
    "    agent_update_pending = None\n",
    "    notes_len = len(notes)\n",
    "    responses_len = len(responses)\n",
    "    j = 0\n",
    "    \n",
    "    if \"India Support\" not in visited:\n",
    "        extract_agents(session,departments,\"India Support\",visited)\n",
    "    \n",
    "    \n",
    "    if escalated is not None:\n",
    "        if escalated['department'] not in visited:\n",
    "             extract_agents(session,departments,escalated['department'],visited)   \n",
    "    poppedNotes = []\n",
    "    while i < notes_len:\n",
    "        note = notes.pop()\n",
    "\n",
    "        if escalated is not None and note['timestamp'] > escalated['timestamp'] and \\\n",
    "            note['agent'] in visited[escalated['department']]:\n",
    "            updateDuration = datetime.now() - time(note['timestamp'])\n",
    "            dev_update_time = time(note['timestamp']) \n",
    "            j = 0\n",
    "            while j < responses_len:\n",
    "                res = responses.pop()\n",
    "                if res['timestamp'] > note['timestamp']:\n",
    "                    if (res['agent'] == assigned_agent or res['agent'] in visited['India Support'] ):\n",
    "                        agent_res = res\n",
    "                else:\n",
    "                    break\n",
    "                j += 1\n",
    "            \n",
    "            if agent_res is not None:\n",
    "                agent_res_time = time(agent_res['timestamp']) - time(note['timestamp'])\n",
    "            dev = note\n",
    "            break\n",
    "        i += 1\n",
    "\n",
    "    if updateDuration is None and escalated is not None:\n",
    "        diff = datetime.now() - time(escalated['timestamp'])\n",
    "    if updateDuration is not None and agent_res is None:\n",
    "        agent_update_pending = datetime.now() - dev_update_time\n",
    "\n",
    "    return {\"ticket\":ticket, \\\n",
    "            \"due\":str(diff),\\\n",
    "            \"escalated\":escalated,\\\n",
    "            \"Developer Update\":str(updateDuration),\\\n",
    "            \"updatedAgent\":dev,\\\n",
    "            \"assignedAgentUpdate\" : str(agent_res_time) if agent_res_time else None,\\\n",
    "            \"agentUpdatePending\" : str(agent_update_pending) if agent_update_pending else None\n",
    "           }"
   ]
  },
  {
   "cell_type": "code",
   "execution_count": null,
   "id": "a78b3988",
   "metadata": {},
   "outputs": [],
   "source": []
  },
  {
   "cell_type": "code",
   "execution_count": 21,
   "id": "d46cc113",
   "metadata": {},
   "outputs": [],
   "source": [
    "# balamurugan\n",
    "# sandeep\n",
    "# vinil\n",
    "# ravi\n",
    "\n",
    "# popped --> ravi,vinil,sandeep -->"
   ]
  },
  {
   "cell_type": "code",
   "execution_count": 22,
   "id": "1f874a17",
   "metadata": {},
   "outputs": [],
   "source": [
    "# escalated = find_last_escalated_item(events)\n",
    "# find_due_date(escalated,notes)"
   ]
  },
  {
   "cell_type": "code",
   "execution_count": 51,
   "id": "2e68feac",
   "metadata": {},
   "outputs": [
    {
     "data": {
      "text/plain": [
       "{'Access Control',\n",
       " 'BMR Indiasupport',\n",
       " 'Compliance',\n",
       " 'DavManager (Web)',\n",
       " 'Deployments',\n",
       " 'Electronic Data Disposal',\n",
       " 'IBWin (Advanced)',\n",
       " 'IBWin (Client)',\n",
       " 'IBWin (EVS)',\n",
       " 'IBWin (Server)',\n",
       " 'IBent (Legacy IDrive/IBackup)',\n",
       " 'IDrive 360',\n",
       " 'IDrive C2C',\n",
       " 'IDrive E2',\n",
       " 'IDriveSync',\n",
       " 'IndiaSupport - Advanced',\n",
       " 'IndiaSupport E2 and C2C',\n",
       " 'Infra',\n",
       " 'Linux',\n",
       " 'Mac',\n",
       " 'Mirror',\n",
       " 'Mobile',\n",
       " 'Mobile / Artificial Intelligence',\n",
       " 'Openstack-Infra',\n",
       " 'Remote Desktop Support',\n",
       " 'RemotePC Codec',\n",
       " 'RemotePC Development'}"
      ]
     },
     "execution_count": 51,
     "metadata": {},
     "output_type": "execute_result"
    }
   ],
   "source": [
    "# from tqdm import tqdm\n",
    "departmentURL = \"https://ticket.idrive.com/scp/ajax.php/tickets/1319774/transfer\"\n",
    "department = set(agents_in_department(departmentURL))\n",
    "department"
   ]
  },
  {
   "cell_type": "code",
   "execution_count": 52,
   "id": "85319a3f",
   "metadata": {},
   "outputs": [],
   "source": [
    "def extract_tickets(csvFilePath):\n",
    "    img_obj = []\n",
    "    columns = ['ticket']\n",
    "    try:\n",
    "        with open(csvFilePath,'r',encoding='utf-8') as file:\n",
    "            reader = csv.reader(file,delimiter=',')\n",
    "            for row in reader:\n",
    "                if row != columns:\n",
    "                    img_obj.append(row[0])\n",
    "        return img_obj\n",
    "    except Exception as e:\n",
    "        return e"
   ]
  },
  {
   "cell_type": "code",
   "execution_count": 53,
   "id": "dfb21db3",
   "metadata": {},
   "outputs": [
    {
     "data": {
      "text/plain": [
       "50"
      ]
     },
     "execution_count": 53,
     "metadata": {},
     "output_type": "execute_result"
    }
   ],
   "source": [
    "tickets = extract_tickets('./tickets.csv')\n",
    "len(tickets)"
   ]
  },
  {
   "cell_type": "code",
   "execution_count": 40,
   "id": "3b2d1bfc",
   "metadata": {},
   "outputs": [],
   "source": [
    "visited = {}\n",
    "info = []\n",
    "totalDue = []\n",
    "n_workers = 5\n",
    "from copy import deepcopy\n",
    "def process_ticket(ticket):\n",
    "    ticketSearch = search_query(session, searchQuery = ticket)\n",
    "    searchSoup = BeautifulSoup(ticketSearch.content,'html5lib')\n",
    "    ticketURL = extract_ticket_url(searchSoup,ticket)\n",
    "    ticketContent = search_query(session,ticketURL)\n",
    "    soup = BeautifulSoup(ticketContent.content,'html5lib')\n",
    "    notes = find_notes(soup,selector1,selector2)\n",
    "    responses = find_responses(soup,selector4,selector5)\n",
    "    deepcopy_responses = deepcopy(responses)\n",
    "    notes_len = len(notes)\n",
    "    events = find_ticket_events(soup,selector3)\n",
    "    events_len = len(events)\n",
    "    escalated = find_last_escalated_item(events,department)\n",
    "    assigned_department = soup.select(depart_name_selector)[0].get_text().split(\"Support /\")[-1].strip()\n",
    "    assigned_agent = soup.select(assigned_agent_selector)[0].get_text().split(\"Support /\")[-1].strip()\n",
    "    due = find_due_date(session,departments,escalated,notes,ticket,visited,assigned_agent,responses)\n",
    "    messages = find_messages(soup,selector6,selector7)\n",
    "    due['UsersResponsePending'] = find_res_pending(deepcopy_responses,messages)\n",
    "    due['notes'] = notes_len\n",
    "    due['events'] = events_len\n",
    "    html = search_query(session,ticketURL=ticketURL)\n",
    "    soup = BeautifulSoup(html.content,'html5lib')\n",
    "    due['department'] = assigned_department\n",
    "    due['assigned'] = assigned_agent\n",
    "    \n",
    "    return due\n",
    "    "
   ]
  },
  {
   "cell_type": "code",
   "execution_count": 32,
   "id": "dd036331",
   "metadata": {},
   "outputs": [
    {
     "name": "stderr",
     "output_type": "stream",
     "text": [
      "100%|████████████████████████████████████████████████████████████████████████████████████| 1/1 [00:03<00:00,  3.59s/it]\n"
     ]
    }
   ],
   "source": [
    "from concurrent.futures import ThreadPoolExecutor\n",
    "from multiprocessing.pool import ThreadPool\n",
    "from tqdm import tqdm\n",
    "info = []\n",
    "with ThreadPoolExecutor(n_workers) as exe:\n",
    "    with tqdm(total=len(['ID299724708'])) as pbar:\n",
    "        futures = [exe.submit(process_ticket,ticket) for ticket in ['ID299724708']]\n",
    "        for future in futures:\n",
    "            due = future.result()\n",
    "            info.append(due)\n",
    "            pbar.update(1)\n"
   ]
  },
  {
   "cell_type": "code",
   "execution_count": 23,
   "id": "fbea1d4c",
   "metadata": {},
   "outputs": [
    {
     "data": {
      "text/plain": [
       "[]"
      ]
     },
     "execution_count": 23,
     "metadata": {},
     "output_type": "execute_result"
    }
   ],
   "source": [
    "info"
   ]
  },
  {
   "cell_type": "code",
   "execution_count": null,
   "id": "bc1bb0c7",
   "metadata": {
    "scrolled": true
   },
   "outputs": [],
   "source": [
    "# visited = {}\n",
    "# info = []\n",
    "# totalDue = []\n",
    "# for ticket in tqdm(tickets):\n",
    "#     ticketSearch = search_query(session, searchQuery = ticket)\n",
    "#     searchSoup = BeautifulSoup(ticketSearch.content,'html5lib')\n",
    "#     ticketURL = extract_ticket_url(searchSoup,ticket)\n",
    "#     ticketContent = search_query(session,ticketURL)\n",
    "#     soup = BeautifulSoup(ticketContent.content,'html5lib')\n",
    "#     notes = find_notes(soup,selector1,selector2)\n",
    "#     notes_len = len(notes)\n",
    "#     events = find_ticket_events(soup,selector3)\n",
    "#     events_len = len(events)\n",
    "#     escalated = find_last_escalated_item(events,department)\n",
    "#     due = find_due_date(escalated,notes,ticket,visited)\n",
    "#     due['notes'] = notes_len\n",
    "#     due['events'] = events_len\n",
    "#     info.append(due)\n",
    "#     totalDue.append([due['ticket'],due[\"due\"]])"
   ]
  },
  {
   "cell_type": "code",
   "execution_count": null,
   "id": "b8f0448e",
   "metadata": {},
   "outputs": [],
   "source": [
    "newData = create_dataframe_csv(info)"
   ]
  },
  {
   "cell_type": "code",
   "execution_count": null,
   "id": "2ec4be71",
   "metadata": {},
   "outputs": [],
   "source": [
    "# newData = []\n",
    "# columns = [\"Ticket\",\"Due Since\",\"Department\",\"Assigned Agent\",\"Developer\",\"LastUpdated\",\"HasAgentUpdated\",\"Notes\",\"Events\"]\n",
    "# for row in info:\n",
    "#     newData.append([row['ticket'],\\\n",
    "#                     row[\"due\"],\\\n",
    "#                     row['department'],\\\n",
    "#                     None if row[\"updatedAgent\"] is None else row[\"updatedAgent\"][\"agent\"],\\\n",
    "#                     None if row[\"updatedAgent\"] is None else \\\n",
    "#                     datetime.now() - datetime.fromtimestamp(row[\"updatedAgent\"]['timestamp']),\\\n",
    "#                     row['notes'],\\\n",
    "#                     row['events']\n",
    "#                    ])"
   ]
  },
  {
   "cell_type": "code",
   "execution_count": null,
   "id": "348a0bbd",
   "metadata": {},
   "outputs": [],
   "source": [
    "columns = [\"Ticket\",\"Response to User\",\"Ticket Due\",\"Department\",\"Assigned\",\"Developer\",\"Developer Update\",\"Response to Dev\",\"Response Pending to Dev Update\",\"Notes\",\"Events\"]\n",
    "def create_dataframe_csv(processed_tickets):\n",
    "    df = []\n",
    "    for row in processed_tickets:\n",
    "        df.append([row['ticket'],\\\n",
    "                        row[\"UsersResponsePending\"],\\\n",
    "                        row[\"due\"],\\\n",
    "                        row['department'],\\\n",
    "                        row['assigned'],\\\n",
    "                        None if row[\"updatedAgent\"] is None else row[\"updatedAgent\"][\"agent\"],\\\n",
    "                        None if row[\"updatedAgent\"] is None else \\\n",
    "                        datetime.now() - datetime.fromtimestamp(row[\"updatedAgent\"]['timestamp']),\\\n",
    "                        row['assignedAgentUpdate'],\\\n",
    "                        row[\"agentUpdatePending\"],\\\n",
    "                        row['notes'],\\\n",
    "                        row['events']\n",
    "                    ])\n",
    "        \n",
    "    return df"
   ]
  },
  {
   "cell_type": "code",
   "execution_count": null,
   "id": "4661191f",
   "metadata": {},
   "outputs": [],
   "source": [
    "def write_csv(csvFilePath,columns,arr):\n",
    "    try:\n",
    "        with open(csvFilePath,'w',newline='',encoding='utf-8') as file:\n",
    "            writer = csv.writer(file,delimiter=',')\n",
    "            writer.writerow(columns)\n",
    "            for row in arr:\n",
    "                writer.writerow(row)\n",
    "    except Exception as e:\n",
    "        return e"
   ]
  },
  {
   "cell_type": "code",
   "execution_count": null,
   "id": "af94a760",
   "metadata": {
    "scrolled": true
   },
   "outputs": [],
   "source": [
    "# extract_departments(\"./departments.csv\")"
   ]
  },
  {
   "cell_type": "code",
   "execution_count": null,
   "id": "071db40f",
   "metadata": {},
   "outputs": [],
   "source": [
    "write_csv('./escalated.csv',columns,newData)"
   ]
  },
  {
   "cell_type": "code",
   "execution_count": null,
   "id": "4490dc7a",
   "metadata": {},
   "outputs": [],
   "source": [
    "info[1]"
   ]
  },
  {
   "cell_type": "code",
   "execution_count": null,
   "id": "9a76f797",
   "metadata": {},
   "outputs": [],
   "source": [
    "newData[26]"
   ]
  },
  {
   "cell_type": "code",
   "execution_count": null,
   "id": "479f4084",
   "metadata": {},
   "outputs": [],
   "source": [
    "info"
   ]
  },
  {
   "cell_type": "code",
   "execution_count": 1,
   "id": "f9910adf",
   "metadata": {},
   "outputs": [],
   "source": [
    "india_support_agents = {'Abhishek Sharma',\n",
    " 'Akhil Pedada',\n",
    " 'Akshay B',\n",
    " 'Akshay V',\n",
    " 'Amrit Kulkarni',\n",
    " 'Aneesh Ram',\n",
    " 'Angshuman Das',\n",
    " 'Arun Krishnan',\n",
    " 'Chandan Support',\n",
    " 'Chetan G',\n",
    " 'Deepak Reddy',\n",
    " 'Goutam Support',\n",
    " 'Goutham MN',\n",
    " 'Harish Babu',\n",
    " 'Harshith D',\n",
    " 'Jaspher Issac',\n",
    " 'Johnny Thomas',\n",
    " 'Johnson Prabu',\n",
    " 'Karthik Natarajan',\n",
    " 'Krishna Menedhar',\n",
    " 'Laxmon Philip',\n",
    " 'Manikandan Support',\n",
    " 'Mathan Kumar',\n",
    " 'Melvin mathew',\n",
    " 'Nandu Suresh',\n",
    " 'Narendra Gaindhar',\n",
    " 'Nikhil Ugrankar',\n",
    " 'Prabhu PT',\n",
    " 'Praveen Shivappa',\n",
    " 'Pruthvi Srinagakonda',\n",
    " 'Punith B M',\n",
    " 'Rahul Raj',\n",
    " 'Rajath .',\n",
    " 'Rakesh V',\n",
    " 'Ravi Chandra',\n",
    " 'Rishabh Singh',\n",
    " 'Sai Deep',\n",
    " 'Sandeep  Shenoy',\n",
    " 'Sandeep Kumar G R',\n",
    " 'Sanjay Yenugu',\n",
    " 'Santanu Chowdhury',\n",
    " 'Santhosh Support',\n",
    " 'Sarthak HS',\n",
    " 'Satish Ningaiah',\n",
    " 'Shanmugaraj M',\n",
    " 'Sumit Sangwai',\n",
    " 'Suraj Hekare',\n",
    " 'Sushanth Rao',\n",
    " 'Thilagaraj M',\n",
    " 'Ticket verify',\n",
    " 'Udaya narayan',\n",
    " 'Ved Kulkarni',\n",
    " 'Vignesh M',\n",
    " 'Vikram Mutharapu',\n",
    " 'Vinil PV',\n",
    " 'abbaraju sasank',\n",
    " 'abhijeet Dey',\n",
    " 'abhijeet ghosh',\n",
    " 'akash narzary',\n",
    " 'akash waghamare',\n",
    " 'amarnath amarnath',\n",
    " 'anamica nanda',\n",
    " 'ashwini kamath',\n",
    " 'basavaraj tippannavar',\n",
    " 'karthik ramamurthy',\n",
    " 'mahesh gutte',\n",
    " 'prasanjit chatterjee',\n",
    " 'preetam cr',\n",
    " 'rajaramana murugan',\n",
    " 'rajkumar kb',\n",
    " 'sam thomas',\n",
    " 'supreeth s',\n",
    " '— Select an Agent —'}"
   ]
  },
  {
   "cell_type": "code",
   "execution_count": 4,
   "id": "9cbca884",
   "metadata": {},
   "outputs": [],
   "source": [
    "search_term = \"abhijeet ghosh\".lower()\n",
    "matches = [name for name in india_support_agents if search_term in name.lower()]"
   ]
  },
  {
   "cell_type": "code",
   "execution_count": 5,
   "id": "28349bdc",
   "metadata": {},
   "outputs": [
    {
     "data": {
      "text/plain": [
       "['abhijeet ghosh']"
      ]
     },
     "execution_count": 5,
     "metadata": {},
     "output_type": "execute_result"
    }
   ],
   "source": [
    "matches"
   ]
  },
  {
   "cell_type": "code",
   "execution_count": null,
   "id": "7663d894",
   "metadata": {},
   "outputs": [],
   "source": []
  }
 ],
 "metadata": {
  "kernelspec": {
   "display_name": "Python 3 (ipykernel)",
   "language": "python",
   "name": "python3"
  },
  "language_info": {
   "codemirror_mode": {
    "name": "ipython",
    "version": 3
   },
   "file_extension": ".py",
   "mimetype": "text/x-python",
   "name": "python",
   "nbconvert_exporter": "python",
   "pygments_lexer": "ipython3",
   "version": "3.11.3"
  }
 },
 "nbformat": 4,
 "nbformat_minor": 5
}
