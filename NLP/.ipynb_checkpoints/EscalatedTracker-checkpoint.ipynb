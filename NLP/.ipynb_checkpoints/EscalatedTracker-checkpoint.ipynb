{
 "cells": [
  {
   "cell_type": "code",
   "execution_count": 1,
   "id": "e29fb857",
   "metadata": {},
   "outputs": [],
   "source": [
    "import requests,urllib,math\n",
    "from urllib.parse import urlparse, parse_qs\n",
    "from itertools import zip_longest\n",
    "from datetime import datetime\n",
    "\n",
    "time = datetime.fromtimestamp\n",
    "\n",
    "import sqlite3,requests\n",
    "from bs4 import BeautifulSoup\n",
    "headers = {\n",
    "        'User-Agent': \"Mozilla/5.0 (Windows NT 10.0; Win64; x64) AppleWebKit/537.36 (KHTML, like Gecko) Chrome/96.0.4664.45 Safari/537.36\"\n",
    "    }\n",
    "login_data = {\n",
    "        'do': \"scplogin\",\n",
    "        'userid': \"sandeep.kumar@idrive.com\",\n",
    "        'passwd': \"\",\n",
    "        'submit': ''\n",
    "        }\n",
    "\n",
    "queryURL ='https://ticket.idrive.com/scp/tickets.php?sort=date&dir=0&a=search&search-type=&query='\n",
    "\n",
    "exclude = ['India Billing Support','India Support','Indiasupport Supervisors','Indiasupport SPAM',\\\n",
    "           'IndiaSupport Crisis','IDrive Support','IBackup Support','IndiaSupport Review',\\\n",
    "           'RemotePC Support','Supervisors','US Support','US Development','Sales',\\\n",
    "           'BMR Support','BMR Critcal','Infra Maintenance','BMR DevOps','Finance','BizDev',\\\n",
    "           'Returns','Dev','Spam','Support','Artificial Intelligence','Design','Office IT','GDPR',\\\n",
    "           '— Select —','Express','IndiaSupport 360'\n",
    "          ]\n",
    "exclude = set(exclude)\n",
    "selector1 = \".thread-entry.note .header b\"\n",
    "selector2 = \".thread-entry.note .header time\"\n",
    "selector4 = \".thread-entry.response .header b\"\n",
    "selector5 = \".thread-entry.response .header time\"\n",
    "selector3 = \".thread-event.action .faded.description:has(>b:first-child):has(>time):has(>strong)\"\n",
    "selector7 = \".thread-entry.message .header time\"\n",
    "selector6 = \".thread-entry.message .header b\"\n",
    "\n",
    "depart_head_selector = \"div#content > :nth-child(3) >:nth-child(1) >:nth-child(1) >:nth-child(1) >:nth-child(1) >:nth-child(1) >:nth-child(3) >:nth-child(1)\"\n",
    "depart_name_selector = \"div#content > :nth-child(3) >:nth-child(1) >:nth-child(1) >:nth-child(1) >:nth-child(1) >:nth-child(1) >:nth-child(3) >:nth-child(2)\"\n",
    "\n",
    "assigned_agent_selector = \"div#content > :nth-child(5) >:nth-child(1) >:nth-child(1) >:nth-child(1) >:nth-child(1) >:nth-child(1) >:nth-child(1) >:nth-child(2)\"\n",
    "\n",
    "def ticket_session(name,secret):\n",
    "    global headers\n",
    "    with requests.Session() as s:\n",
    "        url = \"https://ticket.idrive.com/scp/login.php\"\n",
    "        try:\n",
    "            r = s.get(url,headers=headers)\n",
    "            if r.status_code == 403:\n",
    "                return 403 # unauthorized\n",
    "            else:\n",
    "                return build_header(r,s,url,name,secret)  \n",
    "        except requests.exceptions.HTTPError as errh:\n",
    "                return (request_errors[0],errh)\n",
    "        except requests.exceptions.ConnectionError as errc:\n",
    "                return (request_errors[1],errc)\n",
    "        except requests.exceptions.Timeout as errt:\n",
    "                return (request_errors[2],errt)\n",
    "        except requests.exceptions.RequestException as err:\n",
    "                return (request_errors[3],err)\n",
    "            \n",
    "def build_header(r,s,url,username,password):\n",
    "                global login_data\n",
    "                try:\n",
    "                    soup = BeautifulSoup(r.content,'html5lib')\n",
    "                    login_data['__CSRFToken__'] = soup.find('input',attrs={'name':'__CSRFToken__'})['value']\n",
    "                    login_data['userid']= username\n",
    "                    login_data['passwd']= password\n",
    "                    r = s.post(url,data=login_data,headers=headers)\n",
    "                    if r.status_code == 200:\n",
    "                        return s\n",
    "                    else:\n",
    "                    \n",
    "                        return 422 # login failed\n",
    "                except Exception as e:\n",
    "                    return ('DB Exception-2',e)"
   ]
  },
  {
   "cell_type": "code",
   "execution_count": 2,
   "id": "5c6b94ce",
   "metadata": {},
   "outputs": [],
   "source": [
    "def search_query(s,ticketURL=None,searchQuery=None):\n",
    "    try:\n",
    "        if searchQuery is not None:\n",
    "            query = '\\\"{}\\\"'.format(urllib.parse.quote_plus(searchQuery.strip()))\n",
    "            url = queryURL + query\n",
    "        else:\n",
    "            url = ticketURL\n",
    "        r  = s.get(url,headers=headers)\n",
    "        return r\n",
    "    except requests.exceptions.HTTPError as errh:\n",
    "                return 'error-http'\n",
    "    except requests.exceptions.ConnectionError as errc:\n",
    "                return 'error-connection'\n",
    "    except requests.exceptions.Timeout as errt:\n",
    "                return 'error-timeout'\n",
    "    except requests.exceptions.RequestException as err:\n",
    "                print(err)\n",
    "                return 'error-requestionException'\n",
    "    except Exception as e:  \n",
    "        return e"
   ]
  },
  {
   "cell_type": "code",
   "execution_count": 3,
   "id": "4bd304bc",
   "metadata": {},
   "outputs": [],
   "source": [
    "session = ticket_session('sandeep.kumar@idrive.com','sandy86kumar')\n",
    "html = search_query(session,ticketURL='https://ticket.idrive.com/scp/tickets.php?id=1315669')\n",
    "soup = BeautifulSoup(html.content,'html5lib')\n",
    "# print(type(soup))\n",
    "# soup.select(assigned_agent_selector)[0].get_text().split(\"Support /\")[-1].strip()"
   ]
  },
  {
   "cell_type": "code",
   "execution_count": null,
   "id": "4f4d233d",
   "metadata": {},
   "outputs": [],
   "source": []
  },
  {
   "cell_type": "code",
   "execution_count": 4,
   "id": "693a5070",
   "metadata": {},
   "outputs": [],
   "source": [
    "def find_responses(soup,selector1,selector2):\n",
    "    responses = []\n",
    "    for b,time in zip_longest(soup.select(selector1),soup.select(selector2)):\n",
    "#         print(b.get_text().strip(),time.get_text().strip())\n",
    "        responses.append({\"agent\":b.get_text().strip(),\\\n",
    "                      \"time\":time.get_text().strip(),\\\n",
    "                      \"timestamp\": datetime.strptime(time.get_text().strip(),\\\n",
    "                                 '%m/%d/%y, %I:%M %p').timestamp()    \n",
    "                     })\n",
    "    return responses"
   ]
  },
  {
   "cell_type": "code",
   "execution_count": 5,
   "id": "43a50d36",
   "metadata": {},
   "outputs": [],
   "source": [
    "def extract_ticket_url(soup,ticket):\n",
    "    url = \"\"\n",
    "    for tr in soup.select(\".list tbody tr\"):\n",
    "        for td in tr.select(\"td:nth-child(2)\"):\n",
    "            if(td.get_text().strip() == ticket):\n",
    "                url = \"https://ticket.idrive.com/scp/\" + td.find_all(\"a\")[0]['href']\n",
    "                break\n",
    "    return url"
   ]
  },
  {
   "cell_type": "code",
   "execution_count": 6,
   "id": "7e7505eb",
   "metadata": {},
   "outputs": [],
   "source": [
    "\n",
    "# ticketSearch = search_query(session, searchQuery ='ID631687257')\n",
    "# searchSoup = BeautifulSoup(ticketSearch.content,'html5lib')\n",
    "# ticketURL = extract_ticket_url(searchSoup,'ID631687257')\n",
    "# ticket = search_query(session,ticketURL)\n",
    "# soup = BeautifulSoup(ticket.content,'html5lib')"
   ]
  },
  {
   "cell_type": "code",
   "execution_count": 7,
   "id": "981df5f4",
   "metadata": {},
   "outputs": [],
   "source": [
    "\n",
    "def find_notes(soup,selector1,selector2):\n",
    "    # .thread-entry.message .header  --> user response\n",
    "    # .thread-entry.note .header --> notes\n",
    "    # .thread-event.action .faded.description  --> thread action    \n",
    "    # .thread-entry.response .header     --> agent response\n",
    "    notes = []\n",
    "    for b,time in zip_longest(soup.select(selector1),soup.select(selector2)):\n",
    "#         print(b.get_text().strip(),time.get_text().strip())\n",
    "        notes.append({\"agent\":b.get_text().strip(),\\\n",
    "                      \"time\":time.get_text().strip(),\\\n",
    "                      \"timestamp\": datetime.strptime(time.get_text().strip(),\\\n",
    "                                 '%m/%d/%y, %I:%M %p').timestamp()    \n",
    "                     })\n",
    "    return notes"
   ]
  },
  {
   "cell_type": "code",
   "execution_count": 8,
   "id": "4bbb4515",
   "metadata": {},
   "outputs": [],
   "source": [
    "\n",
    "def find_ticket_events(soup,selector):\n",
    "    events = []\n",
    "    for strong in soup.select(selector):\n",
    "        if(\"transferred this to\" in strong.get_text().strip()):\n",
    "            item = {  \"agent\"     :   strong.select(\"b\")[0].get_text().strip(),\\\n",
    "                      \"department\":   strong.select(\"strong\")[0].get_text().strip(),\\\n",
    "                      \"time\"      :   strong.select(\"time\")[0].get_text().strip(),\\\n",
    "                      \"timestamp\" :   datetime.strptime(strong.select(\"time\")[0].get_text().strip(),\\\n",
    "                                     '%m/%d/%y, %I:%M %p').timestamp()  \n",
    "                    }\n",
    "            events.append(item)\n",
    "    return events"
   ]
  },
  {
   "cell_type": "code",
   "execution_count": 9,
   "id": "563d8a41",
   "metadata": {},
   "outputs": [],
   "source": [
    "def find_responses(soup,selector1,selector2):\n",
    "    responses = []\n",
    "    for b,time in zip_longest(soup.select(selector1),soup.select(selector2)):\n",
    "#         print(b.get_text().strip(),time.get_text().strip())\n",
    "        responses.append({\"agent\":b.get_text().strip(),\\\n",
    "                      \"time\":time.get_text().strip(),\\\n",
    "                      \"timestamp\": datetime.strptime(time.get_text().strip(),\\\n",
    "                                 '%m/%d/%y, %I:%M %p').timestamp()    \n",
    "                     })\n",
    "    return responses"
   ]
  },
  {
   "cell_type": "code",
   "execution_count": 10,
   "id": "aed8bce5",
   "metadata": {},
   "outputs": [],
   "source": [
    "def find_messages(soup,selector1,selector2):\n",
    "    messages = []\n",
    "    for b,time in zip_longest(soup.select(selector1),soup.select(selector2)):\n",
    "#         print(b.get_text().strip(),time.get_text().strip())\n",
    "        messages.append({\"agent\":b.get_text().strip(),\\\n",
    "                      \"time\":time.get_text().strip(),\\\n",
    "                      \"timestamp\": datetime.strptime(time.get_text().strip(),\\\n",
    "                                 '%m/%d/%y, %I:%M %p').timestamp()    \n",
    "                     })\n",
    "    return messages"
   ]
  },
  {
   "cell_type": "code",
   "execution_count": null,
   "id": "3b04f400",
   "metadata": {},
   "outputs": [],
   "source": [
    "notes = find_notes(soup,selector1,selector2)\n",
    "events = find_ticket_events(soup,selector3)\n",
    "responses = find_responses(soup,selector4,selector5)\n",
    "messages = find_messages(soup,selector6,selector7)\n",
    "find_res_pending(responses,messages)"
   ]
  },
  {
   "cell_type": "code",
   "execution_count": 11,
   "id": "67f83ecb",
   "metadata": {},
   "outputs": [],
   "source": [
    "def find_res_pending(responses,messages):\n",
    "    i = 0\n",
    "    res_len = len(responses)\n",
    "    no_response = None\n",
    "    if messages:\n",
    "        msg = messages.pop()\n",
    "        while i < res_len:\n",
    "            res = responses.pop()\n",
    "            if msg['timestamp'] > res['timestamp']:\n",
    "                no_response = msg\n",
    "            else:\n",
    "                break\n",
    "            i += 1\n",
    "        return str(datetime.now() - time(no_response['timestamp'])) if no_response else \"Updated\"\n",
    "    return \"Updated\""
   ]
  },
  {
   "cell_type": "code",
   "execution_count": null,
   "id": "31cffe6e",
   "metadata": {},
   "outputs": [],
   "source": [
    "# allEvents = []\n",
    "# allEvents.extend(notes)\n",
    "# allEvents.extend(events)\n",
    "# allEvents.extend(responses)\n",
    "# allEvents.extend(messages)"
   ]
  },
  {
   "cell_type": "code",
   "execution_count": null,
   "id": "1d30afeb",
   "metadata": {},
   "outputs": [],
   "source": [
    "# allEvents.sort(key=lambda x:x['timestamp'])"
   ]
  },
  {
   "cell_type": "code",
   "execution_count": null,
   "id": "b6e331c5",
   "metadata": {},
   "outputs": [],
   "source": [
    "# notes = find_notes(soup,selector1,selector2)\n",
    "# events = find_ticket_events(soup,selector3)"
   ]
  },
  {
   "cell_type": "code",
   "execution_count": 12,
   "id": "27c1f7e2",
   "metadata": {},
   "outputs": [],
   "source": [
    "# parse_result = urlparse(ticketURL)\n",
    "# ticketID = parse_qs(parse_result.query)['id'][0]\n",
    "\n",
    "# agentsURL = \"https://ticket.idrive.com/scp/ajax.php/tickets/\" + ticketID + \"/assign/agents\"\n",
    "# departmentURL = \"https://ticket.idrive.com/scp/ajax.php/tickets/\" + ticketID + \"/transfer\"\n",
    "\n",
    "def agents_in_department(url):\n",
    "    ticket = search_query(session,url)\n",
    "    soup = BeautifulSoup(ticket.content,'html5lib')\n",
    "    dropdownitems = []\n",
    "    for select in soup.select(\".form-simple select\"):\n",
    "        for option in select.find_all(\"option\"):\n",
    "            department = option.get_text().strip().split(\"Support /\")[-1].strip()\n",
    "            if department not in exclude:\n",
    "                dropdownitems.append(department)\n",
    "    \n",
    "    return dropdownitems"
   ]
  },
  {
   "cell_type": "code",
   "execution_count": 13,
   "id": "a55e9de2",
   "metadata": {},
   "outputs": [],
   "source": [
    "def get_agents_or_departments(session,url):\n",
    "    ticket = search_query(session,url)\n",
    "    soup = BeautifulSoup(ticket.content,'html5lib')\n",
    "    dropdownitems = []\n",
    "    for select in soup.select(\".form-simple select\"):\n",
    "        for option in select.find_all(\"option\"):\n",
    "            department = option.get_text().strip().split(\"Support /\")[-1].strip()\n",
    "            if department not in exclude:\n",
    "                dropdownitems.append(department)\n",
    "    return dropdownitems\n"
   ]
  },
  {
   "cell_type": "code",
   "execution_count": 14,
   "id": "dcdbd5f8",
   "metadata": {},
   "outputs": [],
   "source": [
    "def find_last_escalated_item(events,department):\n",
    "    i = 0\n",
    "    escalated = None\n",
    "    events_len = len(events)\n",
    "    while i < events_len:\n",
    "        item = events.pop()\n",
    "        if item[\"department\"] in department:\n",
    "            escalated = item\n",
    "            break\n",
    "        i += 1\n",
    "    return escalated"
   ]
  },
  {
   "cell_type": "code",
   "execution_count": 15,
   "id": "281ca488",
   "metadata": {},
   "outputs": [],
   "source": [
    "import csv\n",
    "def extract_departments(csvFilePath):\n",
    "    img_obj = {}\n",
    "    columns = ['ticket','department']\n",
    "    try:\n",
    "        with open(csvFilePath,'r',encoding='utf-8') as file:\n",
    "            reader = csv.reader(file,delimiter=',')\n",
    "            for row in reader:\n",
    "                if row != columns:\n",
    "                    img_obj[row[1]] = row[0]\n",
    "        return img_obj\n",
    "    except Exception as e:\n",
    "        return e"
   ]
  },
  {
   "cell_type": "code",
   "execution_count": 16,
   "id": "ee8006d1",
   "metadata": {},
   "outputs": [
    {
     "data": {
      "text/plain": [
       "{'IBWin (EVS)': 'https://ticket.idrive.com/scp/ajax.php/tickets/1319742/assign/agents',\n",
       " 'DavManager (Web)': 'https://ticket.idrive.com/scp/ajax.php/tickets/1319744/assign/agents',\n",
       " 'IDrive 360': 'https://ticket.idrive.com/scp/ajax.php/tickets/1319746/assign/agents',\n",
       " 'IDrive E2': 'https://ticket.idrive.com/scp/ajax.php/tickets/1319747/assign/agents',\n",
       " 'IDriveSync': 'https://ticket.idrive.com/scp/ajax.php/tickets/1319748/assign/agents',\n",
       " 'IBent (Legacy IDrive/IBackup)': 'https://ticket.idrive.com/scp/ajax.php/tickets/1319749/assign/agents',\n",
       " 'Linux': 'https://ticket.idrive.com/scp/ajax.php/tickets/1319751/assign/agents',\n",
       " 'Mobile': 'https://ticket.idrive.com/scp/ajax.php/tickets/1319758/assign/agents',\n",
       " 'RemotePC Development': 'https://ticket.idrive.com/scp/ajax.php/tickets/1319759/assign/agents',\n",
       " 'Remote Desktop Support': 'https://ticket.idrive.com/scp/ajax.php/tickets/1319760/assign/agents',\n",
       " 'RemotePC Codec': 'https://ticket.idrive.com/scp/ajax.php/tickets/1319762/assign/agents',\n",
       " 'Openstack-Infra': 'https://ticket.idrive.com/scp/ajax.php/tickets/1319763/assign/agents',\n",
       " 'Infra': 'https://ticket.idrive.com/scp/ajax.php/tickets/1319764/assign/agents',\n",
       " 'Mac': 'https://ticket.idrive.com/scp/ajax.php/tickets/1319765/assign/agents',\n",
       " 'Mirror': 'https://ticket.idrive.com/scp/ajax.php/tickets/1319766/assign/agents',\n",
       " 'Meeting': 'https://ticket.idrive.com/scp/ajax.php/tickets/1319768/assign/agents',\n",
       " 'India Support': 'https://ticket.idrive.com/scp/ajax.php/tickets/1321297/assign/agents',\n",
       " 'IDrive C2C': 'https://ticket.idrive.com/scp/ajax.php/tickets/1320820/assign/agents'}"
      ]
     },
     "execution_count": 16,
     "metadata": {},
     "output_type": "execute_result"
    }
   ],
   "source": [
    "departments = extract_departments(\"./departments.csv\")\n",
    "departments"
   ]
  },
  {
   "cell_type": "code",
   "execution_count": null,
   "id": "38d70a87",
   "metadata": {},
   "outputs": [],
   "source": [
    "# def extract_agents(department,visited):\n",
    "#     ticket = departments[department]\n",
    "#     ticketSearch = search_query(session,searchQuery=ticket)\n",
    "#     searchSoup = BeautifulSoup(ticketSearch.content,'html5lib')\n",
    "#     ticketURL = extract_ticket_url(searchSoup,ticket)\n",
    "#     ticketContent = search_query(session,ticketURL)\n",
    "#     parse_result = urlparse(ticketURL)\n",
    "#     ticketID = parse_qs(parse_result.query)['id'][0]\n",
    "#     agentsURL = \"https://ticket.idrive.com/scp/ajax.php/tickets/\" + ticketID + \"/assign/agents\"\n",
    "#     agents = set(agents_in_department(agentsURL))\n",
    "#     visited[department] = agents\n",
    "#     return agents\n",
    "    "
   ]
  },
  {
   "cell_type": "code",
   "execution_count": 17,
   "id": "f585b685",
   "metadata": {},
   "outputs": [],
   "source": [
    "def extract_agents(session,departments,department,visited):\n",
    "    try:\n",
    "        agentsURL = departments[department]\n",
    "        agents = set(get_agents_or_departments(session,agentsURL))\n",
    "        visited[department] = agents\n",
    "        return agents\n",
    "    except Exception as e:\n",
    "        return None"
   ]
  },
  {
   "cell_type": "code",
   "execution_count": null,
   "id": "24bc0f92",
   "metadata": {},
   "outputs": [],
   "source": []
  },
  {
   "cell_type": "code",
   "execution_count": 18,
   "id": "ec36b2ae",
   "metadata": {},
   "outputs": [],
   "source": [
    "def get_ticket_url(department):    \n",
    "    ticket = departments[department]\n",
    "    ticketSearch = search_query(session,searchQuery=ticket)\n",
    "    searchSoup = BeautifulSoup(ticketSearch.content,'html5lib')\n",
    "    ticketURL = extract_ticket_url(searchSoup,ticket)\n",
    "    parse_result = urlparse(ticketURL)\n",
    "    ticketID = parse_qs(parse_result.query)['id'][0]\n",
    "    agentsURL = \"https://ticket.idrive.com/scp/ajax.php/tickets/\" + ticketID + \"/assign/agents\"\n",
    "    return agentsURL"
   ]
  },
  {
   "cell_type": "code",
   "execution_count": null,
   "id": "1a6d6922",
   "metadata": {},
   "outputs": [],
   "source": [
    "# def find_due_date(escalated,notes,ticket,visited):\n",
    "#     i = 0\n",
    "#     dev = None\n",
    "#     diff = None\n",
    "#     updateDuration = None\n",
    "#     notes_len = len(notes)\n",
    "#     if escalated is not None:\n",
    "#         if escalated['department'] not in visited:\n",
    "#              extract_agents(escalated['department'],visited)\n",
    "#     while i < notes_len:\n",
    "#         item = notes.pop()\n",
    "#         if escalated is not None and item['timestamp'] > escalated['timestamp'] and \\\n",
    "#             item['agent'] in visited[escalated['department']]:\n",
    "                \n",
    "#             updateDuration = datetime.fromtimestamp(item['timestamp']) - \\\n",
    "#             datetime.fromtimestamp(escalated['timestamp'])\n",
    "#             dev = item\n",
    "#             break\n",
    "#         i += 1\n",
    "#     if updateDuration is None and escalated is not None:\n",
    "#         diff = datetime.now() - datetime.fromtimestamp(escalated['timestamp'])\n",
    "        \n",
    "#     return {\"ticket\":ticket, \\\n",
    "#             \"due\":str(diff),\\\n",
    "#             \"escalated\":escalated,\\\n",
    "#             \"ifUpdatedTimeTaken\":str(updateDuration),\\\n",
    "#             \"updatedAgent\":dev\n",
    "#            }"
   ]
  },
  {
   "cell_type": "code",
   "execution_count": 29,
   "id": "5801cd16",
   "metadata": {},
   "outputs": [],
   "source": [
    "def find_due_date(session,departments,escalated,\\\n",
    "                notes,ticket,visited,assigned_agent,responses):\n",
    "    i = 0\n",
    "    dev = None\n",
    "    diff = None\n",
    "    updateDuration = None\n",
    "    agent_res = None\n",
    "    agent_res_time = None\n",
    "    dev_update_time = None\n",
    "    agent_update_pending = None\n",
    "    notes_len = len(notes)\n",
    "    responses_len = len(responses)\n",
    "    j = 0\n",
    "    \n",
    "    if \"India Support\" not in visited:\n",
    "        extract_agents(session,departments,\"India Support\",visited)\n",
    "    \n",
    "    \n",
    "    if escalated is not None:\n",
    "        if escalated['department'] not in visited:\n",
    "             extract_agents(session,departments,escalated['department'],visited)   \n",
    "    poppedNotes = []\n",
    "    while i < notes_len:\n",
    "        note = notes.pop()\n",
    "\n",
    "        if escalated is not None and note['timestamp'] > escalated['timestamp'] and \\\n",
    "            note['agent'] in visited[escalated['department']]:\n",
    "            updateDuration = datetime.now() - time(note['timestamp'])\n",
    "            dev_update_time = time(note['timestamp']) \n",
    "            j = 0\n",
    "            while j < responses_len:\n",
    "                res = responses.pop()\n",
    "                if res['timestamp'] > note['timestamp']:\n",
    "                    if (res['agent'] == assigned_agent or res['agent'] in visited['India Support'] ):\n",
    "                        agent_res = res\n",
    "                else:\n",
    "                    break\n",
    "                j += 1\n",
    "            \n",
    "            if agent_res is not None:\n",
    "                agent_res_time = time(agent_res['timestamp']) - time(note['timestamp'])\n",
    "            dev = note\n",
    "            break\n",
    "        i += 1\n",
    "\n",
    "    if updateDuration is None and escalated is not None:\n",
    "        diff = datetime.now() - time(escalated['timestamp'])\n",
    "    if updateDuration is not None and agent_res is None:\n",
    "        agent_update_pending = datetime.now() - dev_update_time\n",
    "\n",
    "    return {\"ticket\":ticket, \\\n",
    "            \"due\":str(diff),\\\n",
    "            \"escalated\":escalated,\\\n",
    "            \"Developer Update\":str(updateDuration),\\\n",
    "            \"updatedAgent\":dev,\\\n",
    "            \"assignedAgentUpdate\" : str(agent_res_time) if agent_res_time else None,\\\n",
    "            \"agentUpdatePending\" : str(agent_update_pending) if agent_update_pending else None\n",
    "           }"
   ]
  },
  {
   "cell_type": "code",
   "execution_count": null,
   "id": "d2172687",
   "metadata": {},
   "outputs": [],
   "source": []
  },
  {
   "cell_type": "code",
   "execution_count": 21,
   "id": "d46cc113",
   "metadata": {},
   "outputs": [],
   "source": [
    "# balamurugan\n",
    "# sandeep\n",
    "# vinil\n",
    "# ravi\n",
    "\n",
    "# popped --> ravi,vinil,sandeep -->"
   ]
  },
  {
   "cell_type": "code",
   "execution_count": 22,
   "id": "1f874a17",
   "metadata": {},
   "outputs": [],
   "source": [
    "# escalated = find_last_escalated_item(events)\n",
    "# find_due_date(escalated,notes)"
   ]
  },
  {
   "cell_type": "code",
   "execution_count": 23,
   "id": "2e68feac",
   "metadata": {},
   "outputs": [
    {
     "data": {
      "text/plain": [
       "{'DavManager (Web)',\n",
       " 'IBWin (EVS)',\n",
       " 'IBent (Legacy IDrive/IBackup)',\n",
       " 'IDrive 360',\n",
       " 'IDrive C2C',\n",
       " 'IDrive E2',\n",
       " 'IDriveSync',\n",
       " 'Infra',\n",
       " 'Linux',\n",
       " 'Mac',\n",
       " 'Meeting',\n",
       " 'Mirror',\n",
       " 'Mobile',\n",
       " 'Mobile / Artificial Intelligence',\n",
       " 'Openstack-Infra',\n",
       " 'Remote Desktop Support',\n",
       " 'RemotePC Codec',\n",
       " 'RemotePC Development'}"
      ]
     },
     "execution_count": 23,
     "metadata": {},
     "output_type": "execute_result"
    }
   ],
   "source": [
    "# from tqdm import tqdm\n",
    "departmentURL = \"https://ticket.idrive.com/scp/ajax.php/tickets/1319774/transfer\"\n",
    "department = set(agents_in_department(departmentURL))\n",
    "department"
   ]
  },
  {
   "cell_type": "code",
   "execution_count": 24,
   "id": "85319a3f",
   "metadata": {},
   "outputs": [],
   "source": [
    "def extract_tickets(csvFilePath):\n",
    "    img_obj = []\n",
    "    columns = ['ticket']\n",
    "    try:\n",
    "        with open(csvFilePath,'r',encoding='utf-8') as file:\n",
    "            reader = csv.reader(file,delimiter=',')\n",
    "            for row in reader:\n",
    "                if row != columns:\n",
    "                    img_obj.append(row[0])\n",
    "        return img_obj\n",
    "    except Exception as e:\n",
    "        return e"
   ]
  },
  {
   "cell_type": "code",
   "execution_count": 25,
   "id": "dfb21db3",
   "metadata": {},
   "outputs": [
    {
     "data": {
      "text/plain": [
       "50"
      ]
     },
     "execution_count": 25,
     "metadata": {},
     "output_type": "execute_result"
    }
   ],
   "source": [
    "tickets = extract_tickets('./tickets.csv')\n",
    "len(tickets)"
   ]
  },
  {
   "cell_type": "code",
   "execution_count": 26,
   "id": "3b2d1bfc",
   "metadata": {},
   "outputs": [],
   "source": [
    "visited = {}\n",
    "info = []\n",
    "totalDue = []\n",
    "n_workers = 5\n",
    "from copy import deepcopy\n",
    "def process_ticket(ticket):\n",
    "    ticketSearch = search_query(session, searchQuery = ticket)\n",
    "    searchSoup = BeautifulSoup(ticketSearch.content,'html5lib')\n",
    "    ticketURL = extract_ticket_url(searchSoup,ticket)\n",
    "    ticketContent = search_query(session,ticketURL)\n",
    "    soup = BeautifulSoup(ticketContent.content,'html5lib')\n",
    "    notes = find_notes(soup,selector1,selector2)\n",
    "    responses = find_responses(soup,selector4,selector5)\n",
    "    deepcopy_responses = deepcopy(responses)\n",
    "    notes_len = len(notes)\n",
    "    events = find_ticket_events(soup,selector3)\n",
    "    events_len = len(events)\n",
    "    escalated = find_last_escalated_item(events,department)\n",
    "    assigned_department = soup.select(depart_name_selector)[0].get_text().split(\"Support /\")[-1].strip()\n",
    "    assigned_agent = soup.select(assigned_agent_selector)[0].get_text().split(\"Support /\")[-1].strip()\n",
    "    due = find_due_date(session,departments,escalated,notes,ticket,visited,assigned_agent,responses)\n",
    "    messages = find_messages(soup,selector6,selector7)\n",
    "    due['UsersResponsePending'] = find_res_pending(deepcopy_responses,messages)\n",
    "    due['notes'] = notes_len\n",
    "    due['events'] = events_len\n",
    "    html = search_query(session,ticketURL=ticketURL)\n",
    "    soup = BeautifulSoup(html.content,'html5lib')\n",
    "    due['department'] = assigned_department\n",
    "    due['assigned'] = assigned_agent\n",
    "    \n",
    "    return due\n",
    "    "
   ]
  },
  {
   "cell_type": "code",
   "execution_count": 30,
   "id": "dd036331",
   "metadata": {},
   "outputs": [
    {
     "name": "stderr",
     "output_type": "stream",
     "text": [
      "\r",
      "  0%|                                                                                            | 0/1 [00:00<?, ?it/s]"
     ]
    },
    {
     "name": "stdout",
     "output_type": "stream",
     "text": [
      "{'agent': 'Oskar Support', 'time': '6/10/23, 1:00 AM', 'timestamp': 1686339000.0}\n"
     ]
    },
    {
     "name": "stderr",
     "output_type": "stream",
     "text": [
      "100%|████████████████████████████████████████████████████████████████████████████████████| 1/1 [00:04<00:00,  4.24s/it]\n"
     ]
    }
   ],
   "source": [
    "from concurrent.futures import ThreadPoolExecutor\n",
    "from multiprocessing.pool import ThreadPool\n",
    "from tqdm import tqdm\n",
    "info = []\n",
    "with ThreadPoolExecutor(n_workers) as exe:\n",
    "    with tqdm(total=len(['ID299724708'])) as pbar:\n",
    "        futures = [exe.submit(process_ticket,ticket) for ticket in ['ID299724708']]\n",
    "        for future in futures:\n",
    "            due = future.result()\n",
    "            info.append(due)\n",
    "            pbar.update(1)\n"
   ]
  },
  {
   "cell_type": "code",
   "execution_count": 28,
   "id": "789ee1fe",
   "metadata": {},
   "outputs": [
    {
     "data": {
      "text/plain": [
       "[{'ticket': 'ID299724708',\n",
       "  'due': 'None',\n",
       "  'escalated': {'agent': 'Oskar Support',\n",
       "   'department': 'DavManager (Web)',\n",
       "   'time': '6/9/23, 4:46 AM',\n",
       "   'timestamp': 1686266160.0},\n",
       "  'Developer Update': '4 days, 17:42:18.262770',\n",
       "  'updatedAgent': {'agent': 'Shashi Arroju',\n",
       "   'time': '6/9/23, 11:00 PM',\n",
       "   'timestamp': 1686331800.0},\n",
       "  'assignedAgentUpdate': '2:00:00',\n",
       "  'agentUpdatePending': None,\n",
       "  'UsersResponsePending': 'Updated',\n",
       "  'notes': 3,\n",
       "  'events': 4,\n",
       "  'department': 'US Support',\n",
       "  'assigned': 'Oskar Support'}]"
      ]
     },
     "execution_count": 28,
     "metadata": {},
     "output_type": "execute_result"
    }
   ],
   "source": [
    "info"
   ]
  },
  {
   "cell_type": "code",
   "execution_count": null,
   "id": "bc1bb0c7",
   "metadata": {
    "scrolled": true
   },
   "outputs": [],
   "source": [
    "# visited = {}\n",
    "# info = []\n",
    "# totalDue = []\n",
    "# for ticket in tqdm(tickets):\n",
    "#     ticketSearch = search_query(session, searchQuery = ticket)\n",
    "#     searchSoup = BeautifulSoup(ticketSearch.content,'html5lib')\n",
    "#     ticketURL = extract_ticket_url(searchSoup,ticket)\n",
    "#     ticketContent = search_query(session,ticketURL)\n",
    "#     soup = BeautifulSoup(ticketContent.content,'html5lib')\n",
    "#     notes = find_notes(soup,selector1,selector2)\n",
    "#     notes_len = len(notes)\n",
    "#     events = find_ticket_events(soup,selector3)\n",
    "#     events_len = len(events)\n",
    "#     escalated = find_last_escalated_item(events,department)\n",
    "#     due = find_due_date(escalated,notes,ticket,visited)\n",
    "#     due['notes'] = notes_len\n",
    "#     due['events'] = events_len\n",
    "#     info.append(due)\n",
    "#     totalDue.append([due['ticket'],due[\"due\"]])"
   ]
  },
  {
   "cell_type": "code",
   "execution_count": null,
   "id": "b8f0448e",
   "metadata": {},
   "outputs": [],
   "source": [
    "newData = create_dataframe_csv(info)"
   ]
  },
  {
   "cell_type": "code",
   "execution_count": null,
   "id": "2ec4be71",
   "metadata": {},
   "outputs": [],
   "source": [
    "# newData = []\n",
    "# columns = [\"Ticket\",\"Due Since\",\"Department\",\"Assigned Agent\",\"Developer\",\"LastUpdated\",\"HasAgentUpdated\",\"Notes\",\"Events\"]\n",
    "# for row in info:\n",
    "#     newData.append([row['ticket'],\\\n",
    "#                     row[\"due\"],\\\n",
    "#                     row['department'],\\\n",
    "#                     None if row[\"updatedAgent\"] is None else row[\"updatedAgent\"][\"agent\"],\\\n",
    "#                     None if row[\"updatedAgent\"] is None else \\\n",
    "#                     datetime.now() - datetime.fromtimestamp(row[\"updatedAgent\"]['timestamp']),\\\n",
    "#                     row['notes'],\\\n",
    "#                     row['events']\n",
    "#                    ])"
   ]
  },
  {
   "cell_type": "code",
   "execution_count": null,
   "id": "348a0bbd",
   "metadata": {},
   "outputs": [],
   "source": [
    "columns = [\"Ticket\",\"Response to User\",\"Ticket Due\",\"Department\",\"Assigned\",\"Developer\",\"Developer Update\",\"Response to Dev\",\"Response Pending to Dev Update\",\"Notes\",\"Events\"]\n",
    "def create_dataframe_csv(processed_tickets):\n",
    "    df = []\n",
    "    for row in processed_tickets:\n",
    "        df.append([row['ticket'],\\\n",
    "                        row[\"UsersResponsePending\"],\\\n",
    "                        row[\"due\"],\\\n",
    "                        row['department'],\\\n",
    "                        row['assigned'],\\\n",
    "                        None if row[\"updatedAgent\"] is None else row[\"updatedAgent\"][\"agent\"],\\\n",
    "                        None if row[\"updatedAgent\"] is None else \\\n",
    "                        datetime.now() - datetime.fromtimestamp(row[\"updatedAgent\"]['timestamp']),\\\n",
    "                        row['assignedAgentUpdate'],\\\n",
    "                        row[\"agentUpdatePending\"],\\\n",
    "                        row['notes'],\\\n",
    "                        row['events']\n",
    "                    ])\n",
    "        \n",
    "    return df"
   ]
  },
  {
   "cell_type": "code",
   "execution_count": null,
   "id": "4661191f",
   "metadata": {},
   "outputs": [],
   "source": [
    "def write_csv(csvFilePath,columns,arr):\n",
    "    try:\n",
    "        with open(csvFilePath,'w',newline='',encoding='utf-8') as file:\n",
    "            writer = csv.writer(file,delimiter=',')\n",
    "            writer.writerow(columns)\n",
    "            for row in arr:\n",
    "                writer.writerow(row)\n",
    "    except Exception as e:\n",
    "        return e"
   ]
  },
  {
   "cell_type": "code",
   "execution_count": null,
   "id": "af94a760",
   "metadata": {
    "scrolled": true
   },
   "outputs": [],
   "source": [
    "# extract_departments(\"./departments.csv\")"
   ]
  },
  {
   "cell_type": "code",
   "execution_count": null,
   "id": "071db40f",
   "metadata": {},
   "outputs": [],
   "source": [
    "write_csv('./escalated.csv',columns,newData)"
   ]
  },
  {
   "cell_type": "code",
   "execution_count": null,
   "id": "4490dc7a",
   "metadata": {},
   "outputs": [],
   "source": [
    "info[1]"
   ]
  },
  {
   "cell_type": "code",
   "execution_count": null,
   "id": "9a76f797",
   "metadata": {},
   "outputs": [],
   "source": [
    "newData[26]"
   ]
  },
  {
   "cell_type": "code",
   "execution_count": null,
   "id": "479f4084",
   "metadata": {},
   "outputs": [],
   "source": [
    "info"
   ]
  },
  {
   "cell_type": "code",
   "execution_count": null,
   "id": "d73a23fe",
   "metadata": {},
   "outputs": [],
   "source": []
  }
 ],
 "metadata": {
  "kernelspec": {
   "display_name": "Python 3 (ipykernel)",
   "language": "python",
   "name": "python3"
  },
  "language_info": {
   "codemirror_mode": {
    "name": "ipython",
    "version": 3
   },
   "file_extension": ".py",
   "mimetype": "text/x-python",
   "name": "python",
   "nbconvert_exporter": "python",
   "pygments_lexer": "ipython3",
   "version": "3.8.12"
  }
 },
 "nbformat": 4,
 "nbformat_minor": 5
}
