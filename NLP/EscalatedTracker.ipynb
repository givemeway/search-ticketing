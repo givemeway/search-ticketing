{
 "cells": [
  {
   "cell_type": "code",
   "execution_count": 7,
   "id": "e29fb857",
   "metadata": {},
   "outputs": [],
   "source": [
    "import requests,urllib,math\n",
    "from urllib.parse import urlparse, parse_qs\n",
    "from itertools import zip_longest\n",
    "from datetime import datetime\n",
    "\n",
    "import sqlite3,requests\n",
    "from bs4 import BeautifulSoup\n",
    "headers = {\n",
    "        'User-Agent': \"Mozilla/5.0 (Windows NT 10.0; Win64; x64) AppleWebKit/537.36 (KHTML, like Gecko) Chrome/96.0.4664.45 Safari/537.36\"\n",
    "    }\n",
    "login_data = {\n",
    "        'do': \"scplogin\",\n",
    "        'userid': \"sandeep.kumar@idrive.com\",\n",
    "        'passwd': \"\",\n",
    "        'submit': ''\n",
    "        }\n",
    "\n",
    "queryURL ='https://ticket.idrive.com/scp/tickets.php?sort=date&dir=0&a=search&search-type=&query='\n",
    "\n",
    "exclude = ['India Billing Support','India Support','Indiasupport Supervisors','Indiasupport SPAM',\\\n",
    "           'IndiaSupport Crisis','IDrive Support','IBackup Support','IndiaSupport Review',\\\n",
    "           'RemotePC Support','Supervisors','US Support','US Development','Sales',\\\n",
    "           'BMR Support','BMR Critcal','Infra Maintenance','BMR DevOps','Finance','BizDev',\\\n",
    "           'Returns','Dev','Spam','Support','Artificial Intelligence','Design','Office IT','GDPR',\\\n",
    "           '— Select —','Express','IndiaSupport 360'\n",
    "          ]\n",
    "exclude = set(exclude)\n",
    "selector1 = \".thread-entry.note .header b\"\n",
    "selector2 = \".thread-entry.note .header time\"\n",
    "selector3 = \".thread-event.action .faded.description:has(>b:first-child):has(>time):has(>strong)\"\n",
    "depart_head_selector = \"div#content > :nth-child(3) >:nth-child(1) >:nth-child(1) >:nth-child(1) >:nth-child(1) >:nth-child(1) >:nth-child(3) >:nth-child(1)\"\n",
    "depart_name_selector = \"div#content > :nth-child(3) >:nth-child(1) >:nth-child(1) >:nth-child(1) >:nth-child(1) >:nth-child(1) >:nth-child(3) >:nth-child(2)\"\n",
    "\n",
    "assigned_agent_selector = \"div#content > :nth-child(5) >:nth-child(1) >:nth-child(1) >:nth-child(1) >:nth-child(1) >:nth-child(1) >:nth-child(1) >:nth-child(2)\"\n",
    "\n",
    "def ticket_session(name,secret):\n",
    "    global headers\n",
    "    with requests.Session() as s:\n",
    "        url = \"https://ticket.idrive.com/scp/login.php\"\n",
    "        try:\n",
    "            r = s.get(url,headers=headers)\n",
    "            if r.status_code == 403:\n",
    "                return 403 # unauthorized\n",
    "            else:\n",
    "                return build_header(r,s,url,name,secret)  \n",
    "        except requests.exceptions.HTTPError as errh:\n",
    "                return (request_errors[0],errh)\n",
    "        except requests.exceptions.ConnectionError as errc:\n",
    "                return (request_errors[1],errc)\n",
    "        except requests.exceptions.Timeout as errt:\n",
    "                return (request_errors[2],errt)\n",
    "        except requests.exceptions.RequestException as err:\n",
    "                return (request_errors[3],err)\n",
    "            \n",
    "def build_header(r,s,url,username,password):\n",
    "                global login_data\n",
    "                try:\n",
    "                    soup = BeautifulSoup(r.content,'html5lib')\n",
    "                    login_data['__CSRFToken__'] = soup.find('input',attrs={'name':'__CSRFToken__'})['value']\n",
    "                    login_data['userid']= username\n",
    "                    login_data['passwd']= password\n",
    "                    r = s.post(url,data=login_data,headers=headers)\n",
    "                    if r.status_code == 200:\n",
    "                        return s\n",
    "                    else:\n",
    "                    \n",
    "                        return 422 # login failed\n",
    "                except Exception as e:\n",
    "                    return ('DB Exception-2',e)"
   ]
  },
  {
   "cell_type": "code",
   "execution_count": 2,
   "id": "5c6b94ce",
   "metadata": {},
   "outputs": [],
   "source": [
    "def search_query(s,ticketURL=None,searchQuery=None):\n",
    "    try:\n",
    "        if searchQuery is not None:\n",
    "            query = '\\\"{}\\\"'.format(urllib.parse.quote_plus(searchQuery.strip()))\n",
    "            url = queryURL + query\n",
    "        else:\n",
    "            url = ticketURL\n",
    "        r  = s.get(url,headers=headers)\n",
    "        return r\n",
    "    except requests.exceptions.HTTPError as errh:\n",
    "                return 'error-http'\n",
    "    except requests.exceptions.ConnectionError as errc:\n",
    "                return 'error-connection'\n",
    "    except requests.exceptions.Timeout as errt:\n",
    "                return 'error-timeout'\n",
    "    except requests.exceptions.RequestException as err:\n",
    "                print(err)\n",
    "                return 'error-requestionException'\n",
    "    except Exception as e:  \n",
    "        return e"
   ]
  },
  {
   "cell_type": "code",
   "execution_count": 9,
   "id": "4bd304bc",
   "metadata": {},
   "outputs": [
    {
     "name": "stdout",
     "output_type": "stream",
     "text": [
      "<class 'bs4.BeautifulSoup'>\n"
     ]
    },
    {
     "data": {
      "text/plain": [
       "'Roopesh Kumar'"
      ]
     },
     "execution_count": 9,
     "metadata": {},
     "output_type": "execute_result"
    }
   ],
   "source": [
    "html = search_query(session,ticketURL='https://ticket.idrive.com/scp/tickets.php?id=1316692')\n",
    "soup = BeautifulSoup(html.content,'html5lib')\n",
    "print(type(soup))\n",
    "soup.select(assigned_agent_selector)[0].get_text().split(\"Support /\")[-1].strip()"
   ]
  },
  {
   "cell_type": "code",
   "execution_count": 5,
   "id": "43a50d36",
   "metadata": {},
   "outputs": [],
   "source": [
    "def extract_ticket_url(soup,ticket):\n",
    "    url = \"\"\n",
    "    for tr in soup.select(\".list tbody tr\"):\n",
    "        for td in tr.select(\"td:nth-child(2)\"):\n",
    "            if(td.get_text().strip() == ticket):\n",
    "                url = \"https://ticket.idrive.com/scp/\" + td.find_all(\"a\")[0]['href']\n",
    "                break\n",
    "    return url"
   ]
  },
  {
   "cell_type": "code",
   "execution_count": 4,
   "id": "7e7505eb",
   "metadata": {},
   "outputs": [],
   "source": [
    "session = ticket_session('sandeep.kumar@idrive.com','sandy86kumar')\n",
    "# ticketSearch = search_query(session, searchQuery ='ID631687257')\n",
    "# searchSoup = BeautifulSoup(ticketSearch.content,'html5lib')\n",
    "# ticketURL = extract_ticket_url(searchSoup,'ID631687257')\n",
    "# ticket = search_query(session,ticketURL)\n",
    "# soup = BeautifulSoup(ticket.content,'html5lib')"
   ]
  },
  {
   "cell_type": "code",
   "execution_count": 7,
   "id": "981df5f4",
   "metadata": {},
   "outputs": [],
   "source": [
    "\n",
    "def find_notes(soup,selector1,selector2):\n",
    "    # .thread-entry.message .header  --> user response\n",
    "    # .thread-entry.note .header --> notes\n",
    "    # .thread-event.action .faded.description  --> thread action    \n",
    "    # .thread-entry.response .header     --> agent response\n",
    "    notes = []\n",
    "    for b,time in zip_longest(soup.select(selector1),soup.select(selector2)):\n",
    "#         print(b.get_text().strip(),time.get_text().strip())\n",
    "        notes.append({\"agent\":b.get_text().strip(),\\\n",
    "                      \"time\":time.get_text().strip(),\\\n",
    "                      \"timestamp\": datetime.strptime(time.get_text().strip(),\\\n",
    "                                 '%m/%d/%y, %I:%M %p').timestamp()    \n",
    "                     })\n",
    "    return notes"
   ]
  },
  {
   "cell_type": "code",
   "execution_count": 8,
   "id": "4bbb4515",
   "metadata": {},
   "outputs": [],
   "source": [
    "\n",
    "def find_ticket_events(soup,selector):\n",
    "    events = []\n",
    "    for strong in soup.select(selector):\n",
    "        if(\"transferred this to\" in strong.get_text().strip()):\n",
    "            item = {  \"agent\"     :   strong.select(\"b\")[0].get_text().strip(),\\\n",
    "                      \"department\":   strong.select(\"strong\")[0].get_text().strip(),\\\n",
    "                      \"time\"      :   strong.select(\"time\")[0].get_text().strip(),\\\n",
    "                      \"timestamp\" :   datetime.strptime(strong.select(\"time\")[0].get_text().strip(),\\\n",
    "                                     '%m/%d/%y, %I:%M %p').timestamp()  \n",
    "                    }\n",
    "            events.append(item)\n",
    "    return events"
   ]
  },
  {
   "cell_type": "code",
   "execution_count": 9,
   "id": "b6e331c5",
   "metadata": {},
   "outputs": [],
   "source": [
    "# notes = find_notes(soup,selector1,selector2)\n",
    "# events = find_ticket_events(soup,selector3)"
   ]
  },
  {
   "cell_type": "code",
   "execution_count": 10,
   "id": "27c1f7e2",
   "metadata": {},
   "outputs": [],
   "source": [
    "# parse_result = urlparse(ticketURL)\n",
    "# ticketID = parse_qs(parse_result.query)['id'][0]\n",
    "\n",
    "# agentsURL = \"https://ticket.idrive.com/scp/ajax.php/tickets/\" + ticketID + \"/assign/agents\"\n",
    "# departmentURL = \"https://ticket.idrive.com/scp/ajax.php/tickets/\" + ticketID + \"/transfer\"\n",
    "\n",
    "def agents_in_department(url):\n",
    "    ticket = search_query(session,url)\n",
    "    soup = BeautifulSoup(ticket.content,'html5lib')\n",
    "    dropdownitems = []\n",
    "    for select in soup.select(\".form-simple select\"):\n",
    "        for option in select.find_all(\"option\"):\n",
    "            department = option.get_text().strip().split(\"Support /\")[-1].strip()\n",
    "            if department not in exclude:\n",
    "                dropdownitems.append(department)\n",
    "    \n",
    "    return dropdownitems"
   ]
  },
  {
   "cell_type": "code",
   "execution_count": 11,
   "id": "dcdbd5f8",
   "metadata": {},
   "outputs": [],
   "source": [
    "def find_last_escalated_item(events,department):\n",
    "    i = 0\n",
    "    escalated = None\n",
    "    events_len = len(events)\n",
    "    while i < events_len:\n",
    "        item = events.pop()\n",
    "        if item[\"department\"] in department:\n",
    "            escalated = item\n",
    "            break\n",
    "        i += 1\n",
    "    return escalated"
   ]
  },
  {
   "cell_type": "code",
   "execution_count": 12,
   "id": "281ca488",
   "metadata": {},
   "outputs": [],
   "source": [
    "import csv\n",
    "def extract_departments(csvFilePath):\n",
    "    img_obj = {}\n",
    "    columns = ['ticket','department']\n",
    "    try:\n",
    "        with open(csvFilePath,'r',encoding='utf-8') as file:\n",
    "            reader = csv.reader(file,delimiter=',')\n",
    "            for row in reader:\n",
    "                if row != columns:\n",
    "                    img_obj[row[1]] = row[0]\n",
    "        return img_obj\n",
    "    except Exception as e:\n",
    "        return e"
   ]
  },
  {
   "cell_type": "code",
   "execution_count": 13,
   "id": "ee8006d1",
   "metadata": {},
   "outputs": [],
   "source": [
    "departments = extract_departments(\"./departments.csv\")"
   ]
  },
  {
   "cell_type": "code",
   "execution_count": 14,
   "id": "38d70a87",
   "metadata": {},
   "outputs": [],
   "source": [
    "def extract_agents(department,visited):\n",
    "    ticket = departments[department]\n",
    "    ticketSearch = search_query(session,searchQuery=ticket)\n",
    "    searchSoup = BeautifulSoup(ticketSearch.content,'html5lib')\n",
    "    ticketURL = extract_ticket_url(searchSoup,ticket)\n",
    "    ticketContent = search_query(session,ticketURL)\n",
    "    parse_result = urlparse(ticketURL)\n",
    "    ticketID = parse_qs(parse_result.query)['id'][0]\n",
    "    agentsURL = \"https://ticket.idrive.com/scp/ajax.php/tickets/\" + ticketID + \"/assign/agents\"\n",
    "    agents = set(agents_in_department(agentsURL))\n",
    "    visited[department] = agents\n",
    "    return agents\n",
    "    "
   ]
  },
  {
   "cell_type": "code",
   "execution_count": 15,
   "id": "1a6d6922",
   "metadata": {},
   "outputs": [],
   "source": [
    "def find_due_date(escalated,notes,ticket,visited):\n",
    "    i = 0\n",
    "    dev = None\n",
    "    diff = None\n",
    "    updateDuration = None\n",
    "    notes_len = len(notes)\n",
    "    if escalated is not None:\n",
    "        if escalated['department'] not in visited:\n",
    "             extract_agents(escalated['department'],visited)\n",
    "    while i < notes_len:\n",
    "        item = notes.pop()\n",
    "        if escalated is not None and item['timestamp'] > escalated['timestamp'] and \\\n",
    "            item['agent'] in visited[escalated['department']]:\n",
    "                \n",
    "            updateDuration = datetime.fromtimestamp(item['timestamp']) - \\\n",
    "            datetime.fromtimestamp(escalated['timestamp'])\n",
    "            dev = item\n",
    "            break\n",
    "        i += 1\n",
    "    if updateDuration is None and escalated is not None:\n",
    "        diff = datetime.now() - datetime.fromtimestamp(escalated['timestamp'])\n",
    "        \n",
    "    return {\"ticket\":ticket, \\\n",
    "            \"due\":str(diff),\\\n",
    "            \"escalated\":escalated,\\\n",
    "            \"ifUpdatedTimeTaken\":str(updateDuration),\\\n",
    "            \"updatedAgent\":dev\n",
    "           }"
   ]
  },
  {
   "cell_type": "code",
   "execution_count": 16,
   "id": "1f874a17",
   "metadata": {},
   "outputs": [],
   "source": [
    "# escalated = find_last_escalated_item(events)\n",
    "# find_due_date(escalated,notes)"
   ]
  },
  {
   "cell_type": "code",
   "execution_count": 17,
   "id": "2e68feac",
   "metadata": {},
   "outputs": [
    {
     "data": {
      "text/plain": [
       "{'DavManager (Web)',\n",
       " 'IBWin (EVS)',\n",
       " 'IBent (Legacy IDrive/IBackup)',\n",
       " 'IDrive 360',\n",
       " 'IDrive C2C',\n",
       " 'IDrive E2',\n",
       " 'IDriveSync',\n",
       " 'Infra',\n",
       " 'Linux',\n",
       " 'Mac',\n",
       " 'Meeting',\n",
       " 'Mirror',\n",
       " 'Mobile',\n",
       " 'Mobile / Artificial Intelligence',\n",
       " 'Openstack-Infra',\n",
       " 'Remote Desktop Support',\n",
       " 'RemotePC Codec',\n",
       " 'RemotePC Development'}"
      ]
     },
     "execution_count": 17,
     "metadata": {},
     "output_type": "execute_result"
    }
   ],
   "source": [
    "from tqdm import tqdm\n",
    "departmentURL = \"https://ticket.idrive.com/scp/ajax.php/tickets/1319774/transfer\"\n",
    "department = set(agents_in_department(departmentURL))\n",
    "department"
   ]
  },
  {
   "cell_type": "code",
   "execution_count": 18,
   "id": "85319a3f",
   "metadata": {},
   "outputs": [],
   "source": [
    "def extract_tickets(csvFilePath):\n",
    "    img_obj = []\n",
    "    columns = ['ticket']\n",
    "    try:\n",
    "        with open(csvFilePath,'r',encoding='utf-8') as file:\n",
    "            reader = csv.reader(file,delimiter=',')\n",
    "            for row in reader:\n",
    "                if row != columns:\n",
    "                    img_obj.append(row[0])\n",
    "        return img_obj\n",
    "    except Exception as e:\n",
    "        return e"
   ]
  },
  {
   "cell_type": "code",
   "execution_count": 26,
   "id": "dfb21db3",
   "metadata": {},
   "outputs": [],
   "source": [
    "tickets = extract_tickets('./tickets.csv')\n"
   ]
  },
  {
   "cell_type": "code",
   "execution_count": 27,
   "id": "3b2d1bfc",
   "metadata": {},
   "outputs": [],
   "source": [
    "visited = {}\n",
    "info = []\n",
    "totalDue = []\n",
    "n_workers = 5\n",
    "def process_ticket(ticket):\n",
    "    ticketSearch = search_query(session, searchQuery = ticket)\n",
    "    searchSoup = BeautifulSoup(ticketSearch.content,'html5lib')\n",
    "    ticketURL = extract_ticket_url(searchSoup,ticket)\n",
    "    ticketContent = search_query(session,ticketURL)\n",
    "    soup = BeautifulSoup(ticketContent.content,'html5lib')\n",
    "    notes = find_notes(soup,selector1,selector2)\n",
    "    notes_len = len(notes)\n",
    "    events = find_ticket_events(soup,selector3)\n",
    "    events_len = len(events)\n",
    "    escalated = find_last_escalated_item(events,department)\n",
    "    due = find_due_date(escalated,notes,ticket,visited)\n",
    "    due['notes'] = notes_len\n",
    "    due['events'] = events_len\n",
    "    html = search_query(session,ticketURL=ticketURL)\n",
    "    soup = BeautifulSoup(html.content,'html5lib')\n",
    "    depart = soup.select(depart_name_selector)[0].get_text().split(\"Support /\")[-1].strip()\n",
    "    due['department'] = depart\n",
    "    return due\n",
    "    "
   ]
  },
  {
   "cell_type": "code",
   "execution_count": 28,
   "id": "dd036331",
   "metadata": {},
   "outputs": [
    {
     "name": "stderr",
     "output_type": "stream",
     "text": [
      "100%|████████████████████████████████████████████████████████████████████████████████| 200/200 [03:48<00:00,  1.14s/it]\n"
     ]
    }
   ],
   "source": [
    "from concurrent.futures import ThreadPoolExecutor\n",
    "from multiprocessing.pool import ThreadPool\n",
    "\n",
    "futures = ThreadPool(n_workers).imap_unordered(process_ticket, tickets)\n",
    "with ThreadPoolExecutor(n_workers) as exe:\n",
    "    with tqdm(total=len(tickets)) as pbar:\n",
    "        futures = [exe.submit(process_ticket,ticket) for ticket in tickets]\n",
    "        for future in futures:\n",
    "            due = future.result()\n",
    "            info.append(due)\n",
    "            totalDue.append([due['ticket'],due[\"due\"]])\n",
    "            pbar.update(1)\n"
   ]
  },
  {
   "cell_type": "code",
   "execution_count": null,
   "id": "bc1bb0c7",
   "metadata": {
    "scrolled": true
   },
   "outputs": [],
   "source": [
    "# visited = {}\n",
    "# info = []\n",
    "# totalDue = []\n",
    "# for ticket in tqdm(tickets):\n",
    "#     ticketSearch = search_query(session, searchQuery = ticket)\n",
    "#     searchSoup = BeautifulSoup(ticketSearch.content,'html5lib')\n",
    "#     ticketURL = extract_ticket_url(searchSoup,ticket)\n",
    "#     ticketContent = search_query(session,ticketURL)\n",
    "#     soup = BeautifulSoup(ticketContent.content,'html5lib')\n",
    "#     notes = find_notes(soup,selector1,selector2)\n",
    "#     notes_len = len(notes)\n",
    "#     events = find_ticket_events(soup,selector3)\n",
    "#     events_len = len(events)\n",
    "#     escalated = find_last_escalated_item(events,department)\n",
    "#     due = find_due_date(escalated,notes,ticket,visited)\n",
    "#     due['notes'] = notes_len\n",
    "#     due['events'] = events_len\n",
    "#     info.append(due)\n",
    "#     totalDue.append([due['ticket'],due[\"due\"]])"
   ]
  },
  {
   "cell_type": "code",
   "execution_count": null,
   "id": "b8f0448e",
   "metadata": {},
   "outputs": [],
   "source": [
    "info"
   ]
  },
  {
   "cell_type": "code",
   "execution_count": 30,
   "id": "2ec4be71",
   "metadata": {},
   "outputs": [],
   "source": [
    "newData = []\n",
    "columns = [\"Ticket\",\"Due Since\",\"Department\",\"Developer\",\"LastUpdated\",\"Notes\",\"Events\"]\n",
    "for row in info:\n",
    "    newData.append([row['ticket'],\\\n",
    "                    row[\"due\"],\\\n",
    "                    row['department'],\\\n",
    "                    None if row[\"updatedAgent\"] is None else row[\"updatedAgent\"][\"agent\"],\\\n",
    "                    None if row[\"updatedAgent\"] is None else \\\n",
    "                    datetime.now() - datetime.fromtimestamp(row[\"updatedAgent\"]['timestamp']),\\\n",
    "                    row['notes'],\\\n",
    "                    row['events']\n",
    "                   ])"
   ]
  },
  {
   "cell_type": "code",
   "execution_count": 31,
   "id": "4661191f",
   "metadata": {},
   "outputs": [],
   "source": [
    "def write_csv(csvFilePath,columns,arr):\n",
    "    try:\n",
    "        with open(csvFilePath,'w',newline='',encoding='utf-8') as file:\n",
    "            writer = csv.writer(file,delimiter=',')\n",
    "            writer.writerow(columns)\n",
    "            for row in arr:\n",
    "                writer.writerow(row)\n",
    "    except Exception as e:\n",
    "        return e"
   ]
  },
  {
   "cell_type": "code",
   "execution_count": 32,
   "id": "af94a760",
   "metadata": {
    "scrolled": true
   },
   "outputs": [],
   "source": [
    "# extract_departments(\"./departments.csv\")"
   ]
  },
  {
   "cell_type": "code",
   "execution_count": 33,
   "id": "071db40f",
   "metadata": {},
   "outputs": [],
   "source": [
    "write_csv('./escalated.csv',columns,newData)"
   ]
  },
  {
   "cell_type": "code",
   "execution_count": null,
   "id": "4490dc7a",
   "metadata": {},
   "outputs": [],
   "source": [
    "info"
   ]
  },
  {
   "cell_type": "code",
   "execution_count": null,
   "id": "9a76f797",
   "metadata": {},
   "outputs": [],
   "source": []
  }
 ],
 "metadata": {
  "kernelspec": {
   "display_name": "Python 3 (ipykernel)",
   "language": "python",
   "name": "python3"
  },
  "language_info": {
   "codemirror_mode": {
    "name": "ipython",
    "version": 3
   },
   "file_extension": ".py",
   "mimetype": "text/x-python",
   "name": "python",
   "nbconvert_exporter": "python",
   "pygments_lexer": "ipython3",
   "version": "3.8.12"
  }
 },
 "nbformat": 4,
 "nbformat_minor": 5
}
